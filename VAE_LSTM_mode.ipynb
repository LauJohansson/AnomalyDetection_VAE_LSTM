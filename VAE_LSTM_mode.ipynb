{
  "nbformat": 4,
  "nbformat_minor": 0,
  "metadata": {
    "colab": {
      "name": "VAE_LSTM_mode.ipynb",
      "provenance": [],
      "collapsed_sections": [
        "laHzF7l85P66",
        "YbwBOyBV5dTI",
        "Z7EGFbDyQNeB",
        "_Rc_2VL715Ts",
        "KT0ft7IRnT3q"
      ],
      "machine_shape": "hm",
      "include_colab_link": true
    },
    "kernelspec": {
      "name": "python3",
      "display_name": "Python 3"
    },
    "accelerator": "GPU"
  },
  "cells": [
    {
      "cell_type": "markdown",
      "metadata": {
        "id": "view-in-github",
        "colab_type": "text"
      },
      "source": [
        "<a href=\"https://colab.research.google.com/github/LauJohansson/AnomalyDetection_VariationalAutoencoderLSTM/blob/master/VAE_LSTM_mode.ipynb\" target=\"_parent\"><img src=\"https://colab.research.google.com/assets/colab-badge.svg\" alt=\"Open In Colab\"/></a>"
      ]
    },
    {
      "cell_type": "markdown",
      "metadata": {
        "id": "4KRZlc5d5wli",
        "colab_type": "text"
      },
      "source": [
        "#Variational autoencoder\n",
        "*Authors: Jonas Søbro Christophersen & Lau Johansson*\n"
      ]
    },
    {
      "cell_type": "markdown",
      "metadata": {
        "id": "XKi4iU3I5JLt",
        "colab_type": "text"
      },
      "source": [
        "# Importing and data preparation"
      ]
    },
    {
      "cell_type": "markdown",
      "metadata": {
        "id": "laHzF7l85P66",
        "colab_type": "text"
      },
      "source": [
        "## Import"
      ]
    },
    {
      "cell_type": "code",
      "metadata": {
        "id": "pesTbkEdUxjS",
        "colab_type": "code",
        "colab": {}
      },
      "source": [
        "from __future__ import print_function\n",
        "import argparse\n",
        "\n",
        "import torch\n",
        "import torch.utils.data\n",
        "from torch import nn, optim\n",
        "from torch.nn import functional as F\n",
        "from torchvision import datasets, transforms\n",
        "from torchvision.utils import save_image\n",
        "import numpy as np\n",
        "from sklearn.decomposition import PCA\n",
        "import matplotlib\n",
        "import pandas as pd\n",
        "import matplotlib.pyplot as plt\n",
        "from datetime import datetime\n",
        "import warnings\n",
        "warnings.filterwarnings('ignore')\n",
        "from sklearn.preprocessing import normalize \n",
        "\n",
        "torch.cuda.empty_cache()\n",
        "device = torch.device('cuda:0' if torch.cuda.is_available() else 'cpu')\n",
        "\n",
        "#Set seed\n",
        "torch.manual_seed(0)\n",
        "\n",
        "#Function to test memory usage\n",
        "def print_memory(a):\n",
        "  print(\"Tensor is using {} MB memory.\".format(a.element_size() * a.nelement() * 1e-6 ))"
      ],
      "execution_count": 0,
      "outputs": []
    },
    {
      "cell_type": "markdown",
      "metadata": {
        "id": "q2Nql7215Sby",
        "colab_type": "text"
      },
      "source": [
        "## Flags\n",
        "This namespace contains all hyperparameters for the model"
      ]
    },
    {
      "cell_type": "code",
      "metadata": {
        "id": "g2LSqEGbXkSU",
        "colab_type": "code",
        "outputId": "56b2c64d-314a-4c96-97e2-5a4d0d82a630",
        "colab": {
          "base_uri": "https://localhost:8080/",
          "height": 34
        }
      },
      "source": [
        "# Flags for the model\n",
        "flags = argparse.Namespace(\n",
        "    print_every=1, #lower value, more often test/train loss print. Based on epoch\n",
        "    lstm_size = 128,\n",
        "    latent_size = 1,\n",
        "    input_size = 2, # \n",
        "    learning_rate = 1e-2,\n",
        "    seq_size = 150,\n",
        "    n_lay = 1,\n",
        "    batch_size = 5,\n",
        "    print_interval = 2,\n",
        "    epochs = 15,\n",
        "    number_of_noisy_obs=5,\n",
        "    lambda_kl=0.001, #tune the prior? fit data vs. fit prior. Prior is zero mean gussian. try to set it to 0\n",
        "    lambda_max=1,\n",
        "    lambda_update_rate=0.2,\n",
        "    num_of_directions=2,\n",
        "    attention_size=3,\n",
        "    optimizer_choice='AdamW', #AdamW , #SGD\n",
        "    mode = \"online small data\", #\"online small/big data\"\n",
        "    number_of_data_files=1000,\n",
        "    pickle='Yes', #No\n",
        "    standardize = \"Yes\",\n",
        "    save_bad_img=\"No\", #Yes\n",
        "    Ntrainpoints = 500,\n",
        "    Ntestpoints = 100\n",
        ") \n",
        "device = torch.device('cuda' if torch.cuda.is_available() else 'cpu')\n",
        "print(device)"
      ],
      "execution_count": 0,
      "outputs": [
        {
          "output_type": "stream",
          "text": [
            "cuda\n"
          ],
          "name": "stdout"
        }
      ]
    },
    {
      "cell_type": "markdown",
      "metadata": {
        "id": "YbwBOyBV5dTI",
        "colab_type": "text"
      },
      "source": [
        "## Loading data"
      ]
    },
    {
      "cell_type": "code",
      "metadata": {
        "id": "rhMyE5uUu8jl",
        "colab_type": "code",
        "outputId": "4a06d72e-f8bb-4da1-d966-144ccddb2a83",
        "colab": {
          "base_uri": "https://localhost:8080/"
        }
      },
      "source": [
        "from google.colab import drive\n",
        "drive.mount('/content/drive')\n",
        "\n",
        "####### LOAD NEW DATA\n",
        "\n",
        "if (flags.pickle!='Yes'):\n",
        "  if flags.mode == \"online big data\":\n",
        "    # Load data\n",
        "    #https://lab.compute.dtu.dk/02460F20-tsad/shared\n",
        "\n",
        "    import glob\n",
        "    from scipy.io import loadmat\n",
        "\n",
        "    # Load files for given cases only\n",
        "    input_dir = 'drive/My Drive/Advanced Machine Learning/data/Lira/Synth_data_20042020_speed40/'\n",
        "    #min_index = 7000\n",
        "    #max_index = 18000\n",
        "    file_pattern = '{0}*.mat'.format(input_dir)\n",
        "\n",
        "    # Load data from mat files into python dictionary\n",
        "    data = {}\n",
        "    print('Loading data....')\n",
        "    i=1\n",
        "    for filename in glob.glob(file_pattern):\n",
        "        i=i+1\n",
        "        if(i==flags.number_of_data_files):\n",
        "          break;\n",
        "        \n",
        "        #print('Loading file: {0}'.format(filename))\n",
        "        defect_type = filename.split('_')[-3] # changed to -3 from -2\n",
        "\n",
        "        # Get variables\n",
        "        f = loadmat(filename)\n",
        "        acc = f['acceleration'][:,:].reshape(1,-1)\n",
        "        time = f['time'][:,:].reshape(1,-1)\n",
        "        label = f['type'][:,:].reshape(1,-1)\n",
        "        severity = f['severity'][:,:].reshape(1,-1)\n",
        "\n",
        "        # Update dictionary with the data from this file\n",
        "        data[filename] = {'time':time, 'acc':acc, 'true_labels':label, 'severity':severity, 'defect':defect_type}\n",
        "    print('Loading finished.')\n",
        "    list_of_filenames = list(data.keys())\n",
        "\n",
        "  ##############################################################################\n",
        "\n",
        "  if flags.mode == \"online small data\":\n",
        "    # Load data\n",
        "    #https://lab.compute.dtu.dk/02460F20-tsad/shared\n",
        "\n",
        "    import glob\n",
        "    from scipy.io import loadmat\n",
        "\n",
        "    from google.colab import drive\n",
        "\n",
        "    drive.mount('/content/drive')\n",
        "\n",
        "    # Load files for given cases only\n",
        "    input_dir = 'drive/My Drive/Advanced Machine Learning/data/Lira/Synt_data_20052019/'\n",
        "    min_index = 7000\n",
        "    max_index = 18000\n",
        "    file_pattern = '{0}*.mat'.format(input_dir)\n",
        "\n",
        "    # Load data from mat files into python dictionary\n",
        "    data = {}\n",
        "    print('Loading files...')\n",
        "    for filename in glob.glob(file_pattern):\n",
        "        #print('Loading file: {0}'.format(filename))\n",
        "        defect_type = filename.split('_')[-2]\n",
        "\n",
        "        # Get variables\n",
        "        f = loadmat(filename)\n",
        "        acc = f['acceleration'][min_index:max_index,:].reshape(1,-1)\n",
        "        time = f['time'][min_index:max_index,:].reshape(1,-1)\n",
        "        label = f['type'][min_index:max_index,:].reshape(1,-1)\n",
        "        severity = f['severity'][min_index:max_index,:].reshape(1,-1)\n",
        "\n",
        "        # Update dictionary with the data from this file\n",
        "        data[filename] = {'time':time, 'acc':acc, 'true_labels':label, 'severity':severity, 'defect':defect_type}\n",
        "\n",
        "    list_of_filenames = list(data.keys())\n",
        "    print('Loading done!')\n",
        "\n",
        "  ###############################################################################\n",
        "  if flags.mode == \"local\":\n",
        "    import glob\n",
        "    from scipy.io import loadmat\n",
        "\n",
        "    # Load files for given cases only\n",
        "    input_dir = 'D:/DataForProgramming/lira/data/Lira/Synt_data_20052019/'\n",
        "    min_index = 7000\n",
        "    max_index = 18000\n",
        "    file_pattern = '{0}*.mat'.format(input_dir)\n",
        "\n",
        "    # Load data from mat files into python dictionary\n",
        "    data = {}\n",
        "    print('Loading files...')\n",
        "    for filename in glob.glob(file_pattern):\n",
        "        #print('Loading file: {0}'.format(filename))\n",
        "        \n",
        "        defect_type = filename.split('_')[-2]\n",
        "\n",
        "        # Get variables\n",
        "        f = loadmat(filename)\n",
        "        acc = f['acceleration'][min_index:max_index,:].reshape(1,-1)\n",
        "        time = f['time'][min_index:max_index,:].reshape(1,-1)\n",
        "        label = f['type'][min_index:max_index,:].reshape(1,-1)\n",
        "        severity = f['severity'][min_index:max_index,:].reshape(1,-1)\n",
        "\n",
        "        # Update dictionary with the data from this file\n",
        "        data[filename] = {'time':time, 'acc':acc, 'true_labels':label, 'severity':severity, 'defect':defect_type}\n",
        "    print('Loading finish')\n",
        "    list_of_filenames = list(data.keys())\n",
        "\n",
        "if flags.pickle == \"Yes\":\n",
        "  print('Pickle is used')"
      ],
      "execution_count": 0,
      "outputs": [
        {
          "output_type": "stream",
          "text": [
            "Drive already mounted at /content/drive; to attempt to forcibly remount, call drive.mount(\"/content/drive\", force_remount=True).\n",
            "Pickle is used\n"
          ],
          "name": "stdout"
        }
      ]
    },
    {
      "cell_type": "markdown",
      "metadata": {
        "id": "GupQ-jHb9rvq",
        "colab_type": "text"
      },
      "source": [
        "### Data generator"
      ]
    },
    {
      "cell_type": "code",
      "metadata": {
        "id": "SpMcZeNxTXhl",
        "colab_type": "code",
        "outputId": "bf71bc3c-4730-4fec-cfdf-cd0d02e88e56",
        "colab": {
          "base_uri": "https://localhost:8080/"
        }
      },
      "source": [
        "if (flags.pickle!='Yes'):\n",
        "  data_list = []\n",
        "  # Get all crack data\n",
        "\n",
        "  print('Generating...')\n",
        "  for k in range(len(list_of_filenames)):\n",
        "    if (flags.mode=='online small data'): #When small data online take crack\n",
        "      if (data[list_of_filenames[k]]['defect'] == 'crack'):\n",
        "        \n",
        "        #selected every column and normalizing\n",
        "        \n",
        "        col1 = data[list_of_filenames[k]]['acc'][0]\n",
        "        col2 = data[list_of_filenames[k]]['severity'][0]\n",
        "        col3 = data[list_of_filenames[k]]['time'][0]  \n",
        "        col4 = data[list_of_filenames[k]]['true_labels'][0]\n",
        "\n",
        "        for l in range(flags.number_of_noisy_obs): # Add noisy observations\n",
        "          noisy_col1 = col1 + np.random.normal(0,np.std(col1) / 5 ,len(col1))\n",
        "          noisy_col2 = col2 + np.random.normal(0,np.std(col2) / 5 ,len(col2))\n",
        "          data_list.append(([noisy_col1, noisy_col2, col3, col4]))\n",
        "\n",
        "        data_list.append(([col1, col2, col3, col4])) # add original data\n",
        "    else:\n",
        "        col1 = normalize(data[list_of_filenames[k]]['acc'][0]) \n",
        "        col2 = normalize(data[list_of_filenames[k]]['severity'][0]) \n",
        "        col3 = data[list_of_filenames[k]]['time'][0] \n",
        "        col4 = data[list_of_filenames[k]]['true_labels'][0]\n",
        "\n",
        "        for l in range(flags.number_of_noisy_obs): # Add noisy observations\n",
        "          \n",
        "          noisy_col1 = col1 + np.random.normal(0,np.std(col1) / 5 ,len(col1))\n",
        "          \n",
        "          noisy_col2 = col2 + np.random.normal(0,np.std(col2) / 5 ,len(col2))\n",
        "          data_list.append(([noisy_col1, noisy_col2, col3, col4]))\n",
        "\n",
        "        data_list.append(([col1, col2, col3, col4])) # add original data\n",
        "  data_torch = torch.tensor(data_list)\n",
        "  data_torch = data_torch.permute(2, 0, 1)\n",
        "  data_torch = data_torch.float()\n",
        "  data_torch=data_torch.to(device)\n",
        "  print('Generation done!')\n",
        "\n",
        "else:\n",
        "  print('Pickle is used!')"
      ],
      "execution_count": 0,
      "outputs": [
        {
          "output_type": "stream",
          "text": [
            "Pickle is used!\n"
          ],
          "name": "stdout"
        }
      ]
    },
    {
      "cell_type": "markdown",
      "metadata": {
        "id": "wj4DMokPTEil",
        "colab_type": "text"
      },
      "source": [
        "## loading pickle instead"
      ]
    },
    {
      "cell_type": "code",
      "metadata": {
        "id": "cCHxc4vPTEt9",
        "colab_type": "code",
        "outputId": "00778951-c938-49d7-9409-bb813677c0b9",
        "colab": {
          "base_uri": "https://localhost:8080/",
          "height": 52
        }
      },
      "source": [
        "if (flags.pickle=='Yes'):\n",
        "  # LOAD PRELOADED DATA\n",
        "  print('Loading...')\n",
        "  list_of_labels = torch.load('/content/drive/My Drive/Advanced Machine Learning/data/list_of_labels.pth')\n",
        "  data_torch = torch.load('/content/drive/My Drive/Advanced Machine Learning/data/data_torch.pth')\n",
        "  print('Loading done!')"
      ],
      "execution_count": 0,
      "outputs": [
        {
          "output_type": "stream",
          "text": [
            "Loading...\n",
            "Loading done!\n"
          ],
          "name": "stdout"
        }
      ]
    },
    {
      "cell_type": "markdown",
      "metadata": {
        "id": "49BBI03x9uqE",
        "colab_type": "text"
      },
      "source": [
        "### Data train/test splitter"
      ]
    },
    {
      "cell_type": "markdown",
      "metadata": {
        "id": "HabjUyscq-PR",
        "colab_type": "text"
      },
      "source": [
        "Check the dimension of the data:"
      ]
    },
    {
      "cell_type": "code",
      "metadata": {
        "id": "771qKl1LPnck",
        "colab_type": "code",
        "outputId": "2912373f-380d-429d-8901-779e3848a26d",
        "colab": {
          "base_uri": "https://localhost:8080/",
          "height": 34
        }
      },
      "source": [
        "#data_list has all data\n",
        "print(data_torch.shape)"
      ],
      "execution_count": 0,
      "outputs": [
        {
          "output_type": "stream",
          "text": [
            "torch.Size([2778, 70128, 4])\n"
          ],
          "name": "stdout"
        }
      ]
    },
    {
      "cell_type": "markdown",
      "metadata": {
        "id": "i3mTF7P2rCoN",
        "colab_type": "text"
      },
      "source": [
        "Slicing data so it only has a sequence length of 500 and not long tails:"
      ]
    },
    {
      "cell_type": "code",
      "metadata": {
        "id": "mSck_-eY9u9C",
        "colab_type": "code",
        "outputId": "582ffdbb-98d0-42f1-c8f0-b7f6fa4687b5",
        "colab": {
          "base_uri": "https://localhost:8080/",
          "height": 52
        }
      },
      "source": [
        "if (flags.pickle=='Yes' or flags.mode=='online big data'):\n",
        "  start_slice=250 # 2000\n",
        "  end_slice=400   #7000\n",
        "  nm_p=1 #take every nm_p point\n",
        "\n",
        "  train_batch_idx=flags.Ntrainpoints#40\n",
        "  test_batch_idx=flags.Ntestpoints #60 #(when small data)\n",
        "\n",
        "  X_train=data_torch[start_slice:end_slice:nm_p, :train_batch_idx, :2] #only acceleration and severity\n",
        "  X_test=data_torch[start_slice:end_slice:nm_p, train_batch_idx:train_batch_idx+test_batch_idx, :2]\n",
        "\n",
        "elif(flags.mode=='online small data'):\n",
        "  start_slice= 2000\n",
        "  end_slice=7000\n",
        "  nm_p=10 #take every nm_p point\n",
        "\n",
        "  train_batch_idx=40\n",
        "  test_batch_idx=60 #(when small data)\n",
        "\n",
        "  X_train=data_torch[start_slice:end_slice:nm_p,:train_batch_idx,:2] #only acceleration and severity\n",
        "  X_test=data_torch[start_slice:end_slice:nm_p,train_batch_idx:test_batch_idx,:2]\n",
        "\n",
        "else:\n",
        "  raise Exception('Data not loaded properly')\n",
        "\n",
        "print('The shape of X_train: {}'.format(X_train.shape))\n",
        "print('The shape of X_test: {}'.format(X_test.shape))\n"
      ],
      "execution_count": 0,
      "outputs": [
        {
          "output_type": "stream",
          "text": [
            "The shape of X_train: torch.Size([150, 500, 2])\n",
            "The shape of X_test: torch.Size([150, 100, 2])\n"
          ],
          "name": "stdout"
        }
      ]
    },
    {
      "cell_type": "code",
      "metadata": {
        "id": "T3kmwet6WtBI",
        "colab_type": "code",
        "colab": {}
      },
      "source": [
        "#for i in range(X_train.shape[1]):\n",
        "#  for j in range(X_train.shape[2]):\n",
        "#    mini=X_train[:,i,j].min()\n",
        "#    maxi=X_train[:,i,j].max()\n",
        "#    X_train[:,i,j]=2*((X_train[:,i,j]-mini)/(maxi-mini))-1"
      ],
      "execution_count": 0,
      "outputs": []
    },
    {
      "cell_type": "code",
      "metadata": {
        "id": "XydY_GppcndP",
        "colab_type": "code",
        "colab": {}
      },
      "source": [
        "#for i in range(X_test.shape[1]):\n",
        "#  for j in range(X_test.shape[2]):\n",
        "#    mini=X_test[:,i,j].min()\n",
        "#    maxi=X_test[:,i,j].max()\n",
        "#    X_test[:,i,j]=2*((X_test[:,i,j]-mini)/(maxi-mini))-1"
      ],
      "execution_count": 0,
      "outputs": []
    },
    {
      "cell_type": "markdown",
      "metadata": {
        "id": "Z7EGFbDyQNeB",
        "colab_type": "text"
      },
      "source": [
        "# Standardize data"
      ]
    },
    {
      "cell_type": "code",
      "metadata": {
        "id": "30g9-wswKcDa",
        "colab_type": "code",
        "colab": {}
      },
      "source": [
        "# Add a bit of noise to data to make standard deviations possible to find\n",
        "\n",
        "if flags.standardize == \"Yes\":\n",
        "\n",
        "  train_noise = torch.randn_like(X_train) * 0.001\n",
        "  noisy_Xtrain = X_train + train_noise\n",
        "  train_means = noisy_Xtrain.mean(dim=0, keepdim=True)\n",
        "  train_stds = noisy_Xtrain.std(dim=0, keepdim=True)\n",
        "  normalized_traindata = (noisy_Xtrain - train_means) / train_stds\n",
        "  X_train = normalized_traindata\n",
        "\n",
        "  test_noise = torch.randn_like(X_test) * 0.001\n",
        "  noisy_Xtest = X_test + test_noise\n",
        "  test_means = noisy_Xtest.mean(dim=0, keepdim=True)\n",
        "  test_stds = noisy_Xtest.std(dim=0, keepdim=True)\n",
        "  normalized_testdata = (noisy_Xtest - test_means) / test_stds\n",
        "  X_test = normalized_testdata\n",
        "  "
      ],
      "execution_count": 0,
      "outputs": []
    },
    {
      "cell_type": "markdown",
      "metadata": {
        "id": "TNZCU9PF5jv_",
        "colab_type": "text"
      },
      "source": [
        "### Plotting data"
      ]
    },
    {
      "cell_type": "code",
      "metadata": {
        "id": "b5zpn9oeK2ak",
        "colab_type": "code",
        "outputId": "cbf4c28e-7fb2-42df-fcd7-9c2597ed15d0",
        "colab": {
          "base_uri": "https://localhost:8080/"
        }
      },
      "source": [
        "# Plot true data (0 is acceleration)\n",
        "plt.subplot(2,1,1)\n",
        "plt.plot((X_train[:,0,:][:,0]).cpu().detach().numpy())\n",
        "plt.show()"
      ],
      "execution_count": 0,
      "outputs": [
        {
          "output_type": "display_data",
          "data": {
            "image/png": "[encoded data removed]",
            "text/plain": [
              "<Figure size 432x288 with 1 Axes>"
            ]
          },
          "metadata": {
            "tags": [],
            "needs_background": "light"
          }
        }
      ]
    },
    {
      "cell_type": "code",
      "metadata": {
        "id": "-604B5wbAa5j",
        "colab_type": "code",
        "outputId": "3222bdfc-ea8d-4f2e-dadf-4fd95573fbfa",
        "colab": {
          "base_uri": "https://localhost:8080/"
        }
      },
      "source": [
        "# Plot true data (1 is seveiry)\n",
        "plt.subplot(2,1,1)\n",
        "plt.plot((X_train[:,0,:][:,1]).cpu().detach().numpy())\n",
        "plt.show()"
      ],
      "execution_count": 0,
      "outputs": [
        {
          "output_type": "display_data",
          "data": {
            "image/png": "[encoded data removed]",
            "text/plain": [
              "<Figure size 432x288 with 1 Axes>"
            ]
          },
          "metadata": {
            "tags": [],
            "needs_background": "light"
          }
        }
      ]
    },
    {
      "cell_type": "markdown",
      "metadata": {
        "id": "pUodcfMlyj_z",
        "colab_type": "text"
      },
      "source": [
        "# The Model"
      ]
    },
    {
      "cell_type": "code",
      "metadata": {
        "id": "bzqagkY3VKq5",
        "colab_type": "code",
        "colab": {}
      },
      "source": [
        "class VAE(nn.Module):\n",
        "    def __init__(self):\n",
        "        super(VAE, self).__init__()\n",
        "        self.seq_size = flags.seq_size\n",
        "        self.lstm_size = flags.lstm_size\n",
        "        self.latent_size = flags.latent_size\n",
        "        self.attention_size=flags.attention_size\n",
        "        self.input_size = flags.input_size\n",
        "        self.batch_size = flags.batch_size\n",
        "        self.num_layers = flags.n_lay\n",
        "        self.directions=flags.num_of_directions\n",
        "        self.batch_norm=nn.BatchNorm1d(self.input_size)\n",
        "        self.softmax = nn.Softmax(dim=0)\n",
        "        self.SoftP=nn.Softplus()\n",
        "\n",
        "        #Encoder lstm:\n",
        "        self.encoder1 = nn.LSTM(self.input_size, self.lstm_size, self.num_layers, bidirectional = True)\n",
        "\n",
        "        #Linear from encoder to variational layer\n",
        "        self.encoder_mu = nn.Linear(self.lstm_size* self.directions, self.latent_size) \n",
        "        self.encoder_logvar = nn.Linear(self.lstm_size *self.directions, self.latent_size)\n",
        "        \n",
        "        #Attention to decoder\n",
        "        #Mean and variance linear layer for transforming c_det ----->  to c_t\n",
        "        self.encoder_att_mu = nn.Linear( self.lstm_size * self.directions ,  self.attention_size )\n",
        "        self.encoder_att_logvar = nn.Linear(self.lstm_size * self.directions ,  self.attention_size )\n",
        "         \n",
        "        #Decoder lstm\n",
        "        self.decoder1 = nn.LSTM(self.latent_size + self.attention_size, self.lstm_size, self.num_layers, bidirectional = True) #*2 because z and c has same dimension\n",
        "\n",
        "        #Linear from decoder lstm to output\n",
        "        self.reconstruction_mu = nn.Linear( self.lstm_size * self.directions, self.input_size)\n",
        "\n",
        "    def encode(self, x):       \n",
        "        #Pass input to encoder lstm  \n",
        "        output_encoder, (h_n,c_n) = self.encoder1(x)\n",
        "\n",
        "        #Tanh activation on lstm last hidden\n",
        "        h1=torch.cat((h_n[0,:,:], h_n[1,:,:]), 1)   # ONLY WORKS IF BIDIRECTIONAL\n",
        "        \n",
        "        #Return encoded mu and logvar ( with softplus) ready to variational-layer. Returning output ready to \"attention-layer\"\n",
        "        return self.encoder_mu(h1), self.SoftP(self.encoder_logvar(h1)), output_encoder \n",
        "\n",
        "    def reparameterize(self, mu, logvar):\n",
        "        std = torch.exp(0.5*logvar)\n",
        "        eps = torch.randn_like(std) #randn_like -> mean 0 and standarddeviation 1. Dimension same as \"std\"\n",
        "        return mu + eps*std\n",
        "        \n",
        "    def attention(self, out_encoder):\n",
        "        # Compute score S atrix s11, s12, ... sTT and A scores.\n",
        "        for batch_idx in range(self.batch_size):\n",
        "           \n",
        "            if batch_idx == 0:\n",
        "                s_tensor = torch.div(torch.matmul(out_encoder[:,batch_idx,:], (out_encoder[:,batch_idx,:]).t()) , np.sqrt(self.lstm_size * self.directions))\n",
        "                a_tensor = self.softmax(s_tensor)  \n",
        "                del s_tensor\n",
        "                c_det = (a_tensor.unsqueeze(1) * out_encoder[:,batch_idx,:].unsqueeze(2)).sum(dim=2)\n",
        "                c_det = c_det.unsqueeze(1)\n",
        "            else:\n",
        "                s_score = ((torch.mm(out_encoder[:,batch_idx,:], (out_encoder[:,batch_idx,:]).t())) / np.sqrt(self.lstm_size * self.directions))\n",
        "                a_score = self.softmax(s_score)\n",
        "                del s_score\n",
        "                a_tensor = torch.cat((a_tensor, a_score), 1)\n",
        "                c_det_batch = (a_tensor.unsqueeze(1) * out_encoder[:,batch_idx,:].unsqueeze(2)).sum(dim=2)\n",
        "                c_det_batch = c_det_batch.unsqueeze(1)\n",
        "                c_det = torch.cat((c_det, c_det_batch), 1)\n",
        "        return c_det\n",
        "\n",
        "    def decode(self, z, c):\n",
        "        zrep = z.unsqueeze(0).repeat(self.seq_size, 1, 1)\n",
        "\n",
        "         # Concatenate z and c\n",
        "        zandc = torch.cat((zrep,c), 2)\n",
        "\n",
        "        #Pass z and c to decoder lstm\n",
        "        output_decoder, state_decoder = self.decoder1(zandc)\n",
        "\n",
        "        return self.reconstruction_mu(torch.tan(output_decoder)), state_decoder\n",
        "        \n",
        "    def forward(self, x):  \n",
        "        #Encode-layer\n",
        "        mu, logvar, output_encoder = self.encode(x)\n",
        "        \n",
        "        #\"Variational layer\"\n",
        "        z = self.reparameterize(mu, logvar)\n",
        "\n",
        "        #Attention-layer\n",
        "        c_det = self.attention(output_encoder)\n",
        " \n",
        "        #Attention to decoder.     Pass each c_det one at a time.\n",
        "        for t in range(flags.seq_size):\n",
        "            if (t==0):\n",
        "              c_0= c_det[t,:,:]\n",
        "              c_0 = c_0.unsqueeze(0)\n",
        "              c_t_mu=self.encoder_att_mu(c_0)\n",
        "              \n",
        "              c_t_logvar=self.SoftP(self.encoder_att_logvar(c_0))\n",
        "\n",
        "              c_final=self.reparameterize(c_t_mu, c_t_logvar)\n",
        "              del c_0\n",
        "              del c_t_mu\n",
        "              del c_t_logvar\n",
        "            else:\n",
        "              c_current= c_det[t,:,:]\n",
        "              c_current = c_current.unsqueeze(0)\n",
        "\n",
        "              c_t_mu=self.encoder_att_mu(c_current)\n",
        "\n",
        "              c_t_logvar=self.SoftP(self.encoder_att_logvar(c_current))\n",
        "              c_final=torch.cat((c_final,self.reparameterize(c_t_mu, c_t_logvar)),0)\n",
        "\n",
        "        #Decode-layer\n",
        "        output, state_decoder = self.decode(z, c_final)\n",
        "\n",
        "\n",
        "        ###--------- Reconstruction-------###\n",
        "        #####################################\n",
        "        return output, mu, logvar, output_encoder, state_decoder, c_det, z, c_final\n",
        "    \n",
        "    \n",
        "   "
      ],
      "execution_count": 0,
      "outputs": []
    },
    {
      "cell_type": "markdown",
      "metadata": {
        "id": "tlGgqa9x2BcZ",
        "colab_type": "text"
      },
      "source": [
        "## Init model"
      ]
    },
    {
      "cell_type": "code",
      "metadata": {
        "id": "ZQqToc3M1_WE",
        "colab_type": "code",
        "colab": {}
      },
      "source": [
        "torch.backends.cudnn.enabled = False\n",
        "model = VAE().to(device)"
      ],
      "execution_count": 0,
      "outputs": []
    },
    {
      "cell_type": "markdown",
      "metadata": {
        "id": "_Rc_2VL715Ts",
        "colab_type": "text"
      },
      "source": [
        "## Optimizer"
      ]
    },
    {
      "cell_type": "code",
      "metadata": {
        "id": "F5M4KAdBVNwd",
        "colab_type": "code",
        "colab": {}
      },
      "source": [
        "if (flags.optimizer_choice=='AdamW'):\n",
        "  optimizer = optim.AdamW(model.parameters(), lr = flags.learning_rate)\n",
        "elif(flags.optimizer_choice=='SGD'):\n",
        "  optimizer = optim.SGD(model.parameters(), lr = flags.learning_rate)\n",
        "else: \n",
        "  optimizer = optim.Adam(model.parameters(), lr = flags.learning_rate)"
      ],
      "execution_count": 0,
      "outputs": []
    },
    {
      "cell_type": "markdown",
      "metadata": {
        "id": "aPn_9zCR2FLB",
        "colab_type": "text"
      },
      "source": [
        "## Test model "
      ]
    },
    {
      "cell_type": "code",
      "metadata": {
        "id": "lycr0ochAzrE",
        "colab_type": "code",
        "outputId": "65ccd724-9961-4ebf-c34b-7c20ed685d9d",
        "colab": {
          "base_uri": "https://localhost:8080/",
          "height": 264
        }
      },
      "source": [
        "output, _, _, _, _, _,_,_ = model(X_train[:,0:flags.batch_size,:])\n",
        "# Compare true data with reconstructed data (0 is acceleration)\n",
        "plt.subplot(2,1,1)\n",
        "plt.plot((X_train[:,0,:][:,0]).cpu().detach().numpy())\n",
        "plt.subplot(2,1,2)\n",
        "plt.plot((output[:,0,:][:,0]).cpu().detach().numpy())\n",
        "plt.show()"
      ],
      "execution_count": 0,
      "outputs": [
        {
          "output_type": "display_data",
          "data": {
            "image/png": "[encoded data removed]",
            "text/plain": [
              "<Figure size 432x288 with 2 Axes>"
            ]
          },
          "metadata": {
            "tags": [],
            "needs_background": "light"
          }
        }
      ]
    },
    {
      "cell_type": "markdown",
      "metadata": {
        "id": "dIvnF8yh2KXR",
        "colab_type": "text"
      },
      "source": [
        "# Functions\n",
        "\n",
        "\n"
      ]
    },
    {
      "cell_type": "markdown",
      "metadata": {
        "id": "wVppq60i2SsI",
        "colab_type": "text"
      },
      "source": [
        "## Loss"
      ]
    },
    {
      "cell_type": "code",
      "metadata": {
        "id": "MlMivj9AVPse",
        "colab_type": "code",
        "colab": {}
      },
      "source": [
        "#https://github.com/GauravBh1010tt/DL-Seq2Seq/blob/master/variational%20autoencoders%20(VAE%2C%20CVAE)/vae.py\n",
        "# Reconstruction + KL divergence losses summed over all elements and batch\n",
        "def loss_function(recon_x, x, mu, logvar,lamb):\n",
        "    #BCE = F.binary_cross_entropy(recon_x, x.view(-1, flags.seq_size), reduction='sum')\n",
        "    CE = F.mse_loss(recon_x, x, reduction='sum')\n",
        "    \n",
        "    # J. Pereira, \"Thesis - Unsupervised Anomaly Detection in Time Series Data using Deep Learning\" page 90 (equation 12)\n",
        "    KLD = lamb*(-0.5) * torch.sum(1 + logvar - mu.pow(2) - logvar.exp())\n",
        "    return CE + KLD"
      ],
      "execution_count": 0,
      "outputs": []
    },
    {
      "cell_type": "markdown",
      "metadata": {
        "id": "cC7mwcR32MzL",
        "colab_type": "text"
      },
      "source": [
        "## Get batches"
      ]
    },
    {
      "cell_type": "code",
      "metadata": {
        "id": "7g_O8sZXc82R",
        "colab_type": "code",
        "colab": {}
      },
      "source": [
        "# Get batches\n",
        "def get_batches(iterable, n = flags.batch_size):\n",
        "    l = iterable.shape[1]   # Number of total samples (48)\n",
        "    for ndx in range(0, l, n):\n",
        "        yield iterable[:,ndx:min(ndx + n, l),:]"
      ],
      "execution_count": 0,
      "outputs": []
    },
    {
      "cell_type": "markdown",
      "metadata": {
        "id": "CDmRSfGG2Wsj",
        "colab_type": "text"
      },
      "source": [
        "## Train model"
      ]
    },
    {
      "cell_type": "code",
      "metadata": {
        "id": "csf-oWKIVS0_",
        "colab_type": "code",
        "colab": {}
      },
      "source": [
        "def train(epoch,lambda_kl):\n",
        "    model.train()\n",
        "    train_loss = 0\n",
        "  \n",
        "    batches = get_batches(X_train)\n",
        "    for trainbatch in batches:\n",
        "        trainbatch = trainbatch.to(device)\n",
        "        optimizer.zero_grad()\n",
        "        recon_batch, mu, logvar, _, _, _,_,_ = model(trainbatch)\n",
        "        loss = loss_function(recon_batch, trainbatch, mu, logvar,lambda_kl)\n",
        "        loss.backward()\n",
        "        train_loss += loss.item()\n",
        "        optimizer.step()\n",
        "\n",
        "    if (epoch % flags.print_every == 0):\n",
        "      print('Train loss: {:.4f}'.format(train_loss / X_train.shape[1]))\n",
        "    \n",
        "    return train_loss / X_train.shape[1]\n"
      ],
      "execution_count": 0,
      "outputs": []
    },
    {
      "cell_type": "markdown",
      "metadata": {
        "id": "67rsL6KJ2ZTI",
        "colab_type": "text"
      },
      "source": [
        "## Test model"
      ]
    },
    {
      "cell_type": "code",
      "metadata": {
        "id": "osFPo39GVVY9",
        "colab_type": "code",
        "colab": {}
      },
      "source": [
        "def test(epoch,lambda_kl):\n",
        "    model.eval()\n",
        "    test_loss = 0\n",
        "    with torch.no_grad():\n",
        "        batches = get_batches(X_test)\n",
        "        for testbatch in batches:\n",
        "        \n",
        "          testbatch = testbatch.to(device)\n",
        "          recon_batch, mu, logvar, _, _, _,_,_ = model(testbatch)\n",
        "          loss = loss_function(recon_batch, testbatch, mu, logvar,lambda_kl)\n",
        "          test_loss += loss.item()\n",
        "\n",
        "    test_loss /= X_test.shape[1]\n",
        "    if (epoch % flags.print_every == 0):\n",
        "      print('Test loss: {:.4f}'.format(test_loss))\n",
        "    return test_loss"
      ],
      "execution_count": 0,
      "outputs": []
    },
    {
      "cell_type": "markdown",
      "metadata": {
        "id": "yRS4c2hn2b1_",
        "colab_type": "text"
      },
      "source": [
        "# Main"
      ]
    },
    {
      "cell_type": "code",
      "metadata": {
        "id": "IEfeUcaWVXd7",
        "colab_type": "code",
        "outputId": "2afaed4c-4a0e-49a2-b0e5-cbb59404f157",
        "colab": {
          "base_uri": "https://localhost:8080/",
          "height": 1000
        }
      },
      "source": [
        "if __name__ == \"__main__\":\n",
        "    tic_total= datetime.now()\n",
        "    epochnumber = []\n",
        "    all_train_losses = []\n",
        "    all_test_losses = []\n",
        "    lambda_update=flags.lambda_kl\n",
        "\n",
        "    for epoch in range(1, flags.epochs + 1):\n",
        "        tic = datetime.now()\n",
        "        epochnumber.append(epoch)\n",
        "        print(\"Epoch {} / {}\".format(epoch,flags.epochs))\n",
        "        \n",
        "        all_train_losses.append(train(epoch,lambda_update))\n",
        "        all_test_losses.append(test(epoch,lambda_update))\n",
        "               \n",
        "        print(\"Epoch {} running time {}:\".format(epoch,datetime.now() - tic))\n",
        "        \n",
        "         #update lambda\n",
        "        if (lambda_update<flags.lambda_max):\n",
        "           lambda_update+=flags.lambda_update_rate\n",
        "    print(\"Total running time {}\".format(datetime.now() - tic_total))\n",
        "    \n",
        "    plt.figure(1)                             \n",
        "    plt.xlabel('Epochs'), plt.ylabel('Loss')   \n",
        "    plt.plot(epochnumber, all_train_losses, 'r', epochnumber, all_test_losses, 'g')\n",
        "    plt.legend(['Train Loss', 'Test Loss'])\n",
        "     "
      ],
      "execution_count": 0,
      "outputs": [
        {
          "output_type": "stream",
          "text": [
            "Epoch 1 / 15\n",
            "Train loss: 80.1209\n",
            "Test loss: 26.6191\n",
            "Epoch 1 running time 0:00:37.635890:\n",
            "Epoch 2 / 15\n",
            "Train loss: 18.3999\n",
            "Test loss: 15.5825\n",
            "Epoch 2 running time 0:00:38.063903:\n",
            "Epoch 3 / 15\n",
            "Train loss: 14.5308\n",
            "Test loss: 9.3085\n",
            "Epoch 3 running time 0:00:37.719133:\n",
            "Epoch 4 / 15\n",
            "Train loss: 11.1389\n",
            "Test loss: 7.9832\n",
            "Epoch 4 running time 0:00:37.667511:\n",
            "Epoch 5 / 15\n",
            "Train loss: 6.6013\n",
            "Test loss: 10.3577\n",
            "Epoch 5 running time 0:00:37.374257:\n",
            "Epoch 6 / 15\n",
            "Train loss: 8.7908\n",
            "Test loss: 7.8217\n",
            "Epoch 6 running time 0:00:37.261622:\n",
            "Epoch 7 / 15\n",
            "Train loss: 6.3308\n",
            "Test loss: 3.5554\n",
            "Epoch 7 running time 0:00:37.377710:\n",
            "Epoch 8 / 15\n",
            "Train loss: 5.3019\n",
            "Test loss: 5.2455\n",
            "Epoch 8 running time 0:00:37.760039:\n",
            "Epoch 9 / 15\n",
            "Train loss: 10.0041\n",
            "Test loss: 12.5066\n",
            "Epoch 9 running time 0:00:37.647905:\n",
            "Epoch 10 / 15\n",
            "Train loss: 11.6884\n",
            "Test loss: 12.3471\n",
            "Epoch 10 running time 0:00:37.558215:\n",
            "Epoch 11 / 15\n",
            "Train loss: 9.4361\n",
            "Test loss: 4.7874\n",
            "Epoch 11 running time 0:00:37.617220:\n",
            "Epoch 12 / 15\n",
            "Train loss: 4.9795\n",
            "Test loss: 5.2189\n",
            "Epoch 12 running time 0:00:37.896086:\n",
            "Epoch 13 / 15\n",
            "Train loss: 4.5189\n",
            "Test loss: 3.7038\n",
            "Epoch 13 running time 0:00:37.108557:\n",
            "Epoch 14 / 15\n",
            "Train loss: 4.3366\n",
            "Test loss: 6.6882\n",
            "Epoch 14 running time 0:00:36.830424:\n",
            "Epoch 15 / 15\n",
            "Train loss: 3.9980\n",
            "Test loss: 3.6582\n",
            "Epoch 15 running time 0:00:37.112948:\n",
            "Total running time 0:09:22.632950\n"
          ],
          "name": "stdout"
        },
        {
          "output_type": "display_data",
          "data": {
            "image/png": "[encoded data removed]",
            "text/plain": [
              "<Figure size 432x288 with 1 Axes>"
            ]
          },
          "metadata": {
            "tags": [],
            "needs_background": "light"
          }
        }
      ]
    },
    {
      "cell_type": "code",
      "metadata": {
        "id": "_gSwbIKSJJvD",
        "colab_type": "code",
        "colab": {}
      },
      "source": [
        "if (flags.epochs==50):\n",
        "  plt.figure(2)                             \n",
        "  plt.xlabel('Epochs'), plt.ylabel('Loss')   \n",
        "  plt.plot(epochnumber[-45:], all_train_losses[-45:], 'r', epochnumber[-45:], all_test_losses[-45:], 'g')\n",
        "  plt.legend(['Train Loss', 'Test Loss'])"
      ],
      "execution_count": 0,
      "outputs": []
    },
    {
      "cell_type": "markdown",
      "metadata": {
        "id": "mUjI0SQq2ej5",
        "colab_type": "text"
      },
      "source": [
        "# Testing output"
      ]
    },
    {
      "cell_type": "code",
      "metadata": {
        "id": "SXvr5tqjr8-O",
        "colab_type": "code",
        "outputId": "ad67f070-ebb7-4530-9fbd-bc95763470f6",
        "colab": {
          "base_uri": "https://localhost:8080/",
          "height": 352
        }
      },
      "source": [
        "model.eval()\n",
        "output_good, mu_good, logvar_good, output_encoder, state_decoder, c_det_to_pca, z_good, c_final_good = model(X_test[:,0:flags.batch_size,:])\n",
        "# Compare true data with reconstructed data (0 is acceleration)\n",
        "\n",
        "plt.figure(figsize=(16,5))\n",
        "plt.plot((X_test[:,0,:][:,0]).cpu().detach().numpy())\n",
        "plt.plot((output_good[:,0,:][:,0]).cpu().detach().numpy())\n",
        "plt.legend([\"Train series\", \"Reconstructed train series\"])\n",
        "plt.ylabel(\"Acceleration value\")\n",
        "plt.xlabel(\"Timestep\")"
      ],
      "execution_count": 0,
      "outputs": [
        {
          "output_type": "execute_result",
          "data": {
            "text/plain": [
              "Text(0.5, 0, 'Timestep')"
            ]
          },
          "metadata": {
            "tags": []
          },
          "execution_count": 23
        },
        {
          "output_type": "display_data",
          "data": {
            "image/png": "[encoded data removed]",
            "text/plain": [
              "<Figure size 1152x360 with 1 Axes>"
            ]
          },
          "metadata": {
            "tags": [],
            "needs_background": "light"
          }
        }
      ]
    },
    {
      "cell_type": "markdown",
      "metadata": {
        "id": "KT0ft7IRnT3q",
        "colab_type": "text"
      },
      "source": [
        "### Choose specific defect type and test (only when model has trained on all defect types)"
      ]
    },
    {
      "cell_type": "code",
      "metadata": {
        "id": "0-H2RO1Yneav",
        "colab_type": "code",
        "colab": {}
      },
      "source": [
        "#choose='crack'\n",
        "#choose='patch'\n",
        "choose='pothole'"
      ],
      "execution_count": 0,
      "outputs": []
    },
    {
      "cell_type": "code",
      "metadata": {
        "id": "CRVkY6ndukKI",
        "colab_type": "code",
        "outputId": "654186c0-0fa4-459e-dd45-a4c65798c70b",
        "colab": {
          "base_uri": "https://localhost:8080/"
        }
      },
      "source": [
        "  # Load data\n",
        "    #https://lab.compute.dtu.dk/02460F20-tsad/shared\n",
        "\n",
        "import glob\n",
        "from scipy.io import loadmat\n",
        "\n",
        "from google.colab import drive\n",
        "\n",
        "drive.mount('/content/drive')\n",
        "\n",
        "# Load files for given cases only\n",
        "input_dir = 'drive/My Drive/Advanced Machine Learning/data/Lira/Synt_data_20052019/'\n",
        "min_index = 7000\n",
        "max_index = 18000\n",
        "file_pattern = '{0}*.mat'.format(input_dir)\n",
        "\n",
        "# Load data from mat files into python dictionary\n",
        "data = {}\n",
        "print('Loading files...')\n",
        "for filename in glob.glob(file_pattern):\n",
        "    #print('Loading file: {0}'.format(filename))\n",
        "    defect_type = filename.split('_')[-2]\n",
        "\n",
        "    # Get variables\n",
        "    f = loadmat(filename)\n",
        "    acc = f['acceleration'][min_index:max_index,:].reshape(1,-1)\n",
        "    time = f['time'][min_index:max_index,:].reshape(1,-1)\n",
        "    label = f['type'][min_index:max_index,:].reshape(1,-1)\n",
        "    severity = f['severity'][min_index:max_index,:].reshape(1,-1)\n",
        "\n",
        "    # Update dictionary with the data from this file\n",
        "    data[filename] = {'time':time, 'acc':acc, 'true_labels':label, 'severity':severity, 'defect':defect_type}\n",
        "\n",
        "list_of_filenames = list(data.keys())\n",
        "print('Loading done!')"
      ],
      "execution_count": 0,
      "outputs": [
        {
          "output_type": "stream",
          "text": [
            "Drive already mounted at /content/drive; to attempt to forcibly remount, call drive.mount(\"/content/drive\", force_remount=True).\n",
            "Loading files...\n",
            "Loading done!\n"
          ],
          "name": "stdout"
        }
      ]
    },
    {
      "cell_type": "code",
      "metadata": {
        "id": "lcNC-GJqnUAL",
        "colab_type": "code",
        "colab": {}
      },
      "source": [
        "data_specific_defect_list = []\n",
        "# Get all crack data\n",
        " \n",
        "for k in range(len(list_of_filenames)):\n",
        "  if (data[list_of_filenames[k]]['defect'] == choose):\n",
        "    col1 = data[list_of_filenames[k]]['acc'][0]\n",
        "    col2 = data[list_of_filenames[k]]['severity'][0]\n",
        "    col3 = data[list_of_filenames[k]]['time'][0] \n",
        "    col4 = data[list_of_filenames[k]]['true_labels'][0]\n",
        " \n",
        "    for l in range(flags.number_of_noisy_obs): # Add noisy observations\n",
        "      noisy_col1 = col1 + np.random.normal(0,np.std(col1) / 5 ,len(col1))\n",
        "      noisy_col2 = col2 + np.random.normal(0,np.std(col2) / 5 ,len(col2))\n",
        "      data_specific_defect_list.append(([noisy_col1, noisy_col2, col3, col4]))\n",
        "  \n",
        "    data_specific_defect_list.append(([col1, col2, col3, col4])) # add original data\n",
        "  \n",
        "data_specific_defect_torch = torch.tensor(data_specific_defect_list)\n",
        "data_specific_defect_torch = data_specific_defect_torch.permute(2, 0, 1)\n",
        "data_specific_defect_torch = data_specific_defect_torch.float()\n",
        "data_specific_defect_torch=data_specific_defect_torch.to(device)"
      ],
      "execution_count": 0,
      "outputs": []
    },
    {
      "cell_type": "code",
      "metadata": {
        "id": "gzzKatf5oOki",
        "colab_type": "code",
        "outputId": "18d1c759-8e98-45b4-ef94-992fdb05b563",
        "colab": {
          "base_uri": "https://localhost:8080/"
        }
      },
      "source": [
        "start_slice= 2000\n",
        "end_slice=7100\n",
        "nm_p=34 #take every nm_p point\n",
        "\n",
        "train_batch_idx=40\n",
        "test_batch_idx=60 #(when small data)\n",
        "\n",
        "X_train_specific=data_specific_defect_torch[start_slice:end_slice:nm_p,:train_batch_idx,:2] #only acceleration and severity\n",
        "X_test_specific=data_specific_defect_torch[start_slice:end_slice:nm_p,train_batch_idx:test_batch_idx,:2]\n",
        "\n",
        "print('The shape of X_train: {}'.format(X_train_specific.shape))\n",
        "print('The shape of X_test: {}'.format(X_test_specific.shape))"
      ],
      "execution_count": 0,
      "outputs": [
        {
          "output_type": "stream",
          "text": [
            "The shape of X_train: torch.Size([150, 40, 2])\n",
            "The shape of X_test: torch.Size([150, 8, 2])\n"
          ],
          "name": "stdout"
        }
      ]
    },
    {
      "cell_type": "code",
      "metadata": {
        "id": "CNRJtz9FLILn",
        "colab_type": "code",
        "colab": {}
      },
      "source": [
        "# Add a bit of noise to data to make standard deviations possible to find\n",
        " \n",
        "if flags.standardize == \"Yes\":\n",
        " \n",
        "  train_noise_specific = torch.randn_like(X_train_specific) * 0.001\n",
        "  noisy_Xtrain_specific = X_train_specific + train_noise_specific\n",
        "  train_means_specific = noisy_Xtrain_specific.mean(dim=0, keepdim=True)\n",
        "  train_stds_specific = noisy_Xtrain_specific.std(dim=0, keepdim=True)\n",
        "  normalized_traindata_specific = (noisy_Xtrain_specific - train_means_specific) / train_stds_specific\n",
        "  X_train_specific = normalized_traindata_specific\n",
        " \n",
        "  test_noise_specific = torch.randn_like(X_test_specific) * 0.001\n",
        "  noisy_Xtest_specific = X_test_specific + test_noise_specific\n",
        "  test_means_specific = noisy_Xtest_specific.mean(dim=0, keepdim=True)\n",
        "  test_stds_specific = noisy_Xtest_specific.std(dim=0, keepdim=True)\n",
        "  normalized_testdata_specific = (noisy_Xtest_specific - test_means_specific) / test_stds_specific\n",
        "  X_test_specific = normalized_testdata_specific\n",
        "else:\n",
        "  for i in range(X_train.shape[1]):\n",
        "    for j in range(X_train.shape[2]):\n",
        "      mini=X_train[:,i,j].min()\n",
        "      maxi=X_train[:,i,j].max()\n",
        "      X_train[:,i,j]=2*((X_train[:,i,j]-mini)/(maxi-mini))-1\n",
        "\n",
        "  for i in range(X_test.shape[1]):\n",
        "    for j in range(X_test.shape[2]):\n",
        "      mini=X_test[:,i,j].min()\n",
        "      maxi=X_test[:,i,j].max()\n",
        "      X_test[:,i,j]=2*((X_test[:,i,j]-mini)/(maxi-mini))-1"
      ],
      "execution_count": 0,
      "outputs": []
    },
    {
      "cell_type": "code",
      "metadata": {
        "id": "6EkYbDjQoGna",
        "colab_type": "code",
        "outputId": "9bc696ea-0400-4226-d28c-7fc7a63fce14",
        "colab": {
          "base_uri": "https://localhost:8080/"
        }
      },
      "source": [
        "model.eval()\n",
        "output_specific, _, _, _, _, c_det_specific,z_specific,c_final_specific = model(X_test_specific[:,0:flags.batch_size,:])\n",
        "# Compare true data with reconstructed data (0 is acceleration)\n",
        "\n",
        "plt.figure(figsize=(16,5))\n",
        "plt.plot((X_test_specific[:,0,:][:,0]).cpu().detach().numpy())\n",
        "plt.plot((output_specific[:,0,:][:,0]).cpu().detach().numpy())\n",
        "plt.legend([\"Train series \"+str(choose), \"Reconstructed train series \"+str(choose)])\n",
        "plt.ylabel(\"Acceleration value\")\n",
        "plt.xlabel(\"Timestep\")"
      ],
      "execution_count": 0,
      "outputs": [
        {
          "output_type": "execute_result",
          "data": {
            "text/plain": [
              "Text(0.5, 0, 'Timestep')"
            ]
          },
          "metadata": {
            "tags": []
          },
          "execution_count": 29
        },
        {
          "output_type": "display_data",
          "data": {
            "image/png": "[encoded data removed]",
            "text/plain": [
              "<Figure size 1152x360 with 1 Axes>"
            ]
          },
          "metadata": {
            "tags": [],
            "needs_background": "light"
          }
        }
      ]
    },
    {
      "cell_type": "markdown",
      "metadata": {
        "id": "hWaXidwk-bEr",
        "colab_type": "text"
      },
      "source": [
        "\n",
        "### Give a very bad input"
      ]
    },
    {
      "cell_type": "markdown",
      "metadata": {
        "id": "WRqLRLyxhp-z",
        "colab_type": "text"
      },
      "source": [
        "**Bad input 1**"
      ]
    },
    {
      "cell_type": "code",
      "metadata": {
        "id": "tYFmG249hj7B",
        "colab_type": "code",
        "outputId": "36f51012-6c30-4725-9398-3377d1e634ad",
        "colab": {
          "base_uri": "https://localhost:8080/",
          "height": 34
        }
      },
      "source": [
        "'''\n",
        "Bad input 1:\n",
        "bad_name=1\n",
        "X_bad=X_test[:,0:flags.batch_size,:].data.clone() + nn.functional.relu((X_test[:,flags.batch_size:flags.batch_size*2,:].data.clone()))*3\n",
        "'''\n",
        "\n",
        "'''\n",
        "#Bad input 1.1:\n",
        "bad_name=1\n",
        "X_bad=X_test[:,0:flags.batch_size,:].data.clone()\n",
        "X_bad[180:200,0,0]=X_bad[180:200,0,0]*3\n",
        "'''\n",
        "'''\n",
        "#Bad input 1.2:\n",
        "bad_name=1\n",
        "X_bad=X_test[:,0:flags.batch_size,:].data.clone()\n",
        "X_bad[200:230,0,0]=X_bad[200:230,0,0]\n",
        "\n"
      ],
      "execution_count": 0,
      "outputs": [
        {
          "output_type": "execute_result",
          "data": {
            "text/plain": [
              "'\\n#Bad input 1.2:\\nbad_name=1\\nX_bad=X_test[:,0:flags.batch_size,:].data.clone()\\nX_bad[200:230,0,0]=X_bad[200:230,0,0]\\n'"
            ]
          },
          "metadata": {
            "tags": []
          },
          "execution_count": 30
        }
      ]
    },
    {
      "cell_type": "markdown",
      "metadata": {
        "id": "ZbVkOjR4hr7W",
        "colab_type": "text"
      },
      "source": [
        "**Bad input 2**"
      ]
    },
    {
      "cell_type": "code",
      "metadata": {
        "id": "_6hiSTZDhmeE",
        "colab_type": "code",
        "colab": {}
      },
      "source": [
        "#Weird input 2:\n",
        "bad_name=2\n",
        "X_bad=X_test[:,0:flags.batch_size,:].data.clone() * torch.randn(150,5,2).to(device)"
      ],
      "execution_count": 0,
      "outputs": []
    },
    {
      "cell_type": "markdown",
      "metadata": {
        "id": "iNLt4nWOhvnc",
        "colab_type": "text"
      },
      "source": [
        "**Bad input 3**"
      ]
    },
    {
      "cell_type": "code",
      "metadata": {
        "id": "NyR4kw5IhyGY",
        "colab_type": "code",
        "outputId": "4fb667cf-13c5-4ddd-9d92-8974cd7c8506",
        "colab": {
          "base_uri": "https://localhost:8080/",
          "height": 54
        }
      },
      "source": [
        "'''\n",
        "# bad input 3:\n",
        "bad_name=3\n",
        "X_bad=X_test[:,0:flags.batch_size,:].data.clone()\n",
        "X_bad[200:400,0,0]=torch.FloatTensor(list(np.ones(200)*10))\n",
        "X_bad[200:400,1,0]=torch.FloatTensor(list(np.ones(200)*10))\n",
        "X_bad[200:400,2,0]=torch.FloatTensor(list(np.ones(200)*10))\n",
        "X_bad[200:400,3,0]=torch.FloatTensor(list(np.ones(200)*10))\n",
        "\n",
        "'''"
      ],
      "execution_count": 0,
      "outputs": [
        {
          "output_type": "execute_result",
          "data": {
            "text/plain": [
              "'\\n# bad input 3:\\nbad_name=3\\nX_bad=X_test[:,0:flags.batch_size,:].data.clone()\\nX_bad[200:400,0,0]=torch.FloatTensor(list(np.ones(200)*10))\\nX_bad[200:400,1,0]=torch.FloatTensor(list(np.ones(200)*10))\\nX_bad[200:400,2,0]=torch.FloatTensor(list(np.ones(200)*10))\\nX_bad[200:400,3,0]=torch.FloatTensor(list(np.ones(200)*10))\\n\\n'"
            ]
          },
          "metadata": {
            "tags": []
          },
          "execution_count": 32
        }
      ]
    },
    {
      "cell_type": "markdown",
      "metadata": {
        "id": "iohzNbDjh5mc",
        "colab_type": "text"
      },
      "source": [
        "**Bad input 4**"
      ]
    },
    {
      "cell_type": "code",
      "metadata": {
        "id": "Rk0LqZH5h8Ek",
        "colab_type": "code",
        "outputId": "21b70839-607e-4ca0-90c8-c0c28887cedd",
        "colab": {
          "base_uri": "https://localhost:8080/",
          "height": 54
        }
      },
      "source": [
        "'''\n",
        "# Bad input 4:\n",
        "bad_name=4\n",
        "bad=[]\n",
        "x1=range(50,100)\n",
        "for i in range(len(x1)): \n",
        "  bad.append( np.cos(x1[i]/10)) #change here\n",
        "\n",
        "x2=range(100,150)\n",
        "for i in range(len(x2)):\n",
        "  #bad.append(-1) #change here\n",
        "  bad.append( np.cos(x3[i]/10))\n",
        "\n",
        "x3=range(150,200)\n",
        "for i in range(len(x3)): \n",
        "  bad.append( np.cos(x3[i]/10)) #change here\n",
        "\n",
        "X_bad=X_test[:,0:flags.batch_size,:].data.clone()\n",
        "X_bad[50:200,0,0]=torch.FloatTensor(bad)\n",
        "X_bad[50:200,1,0]=torch.FloatTensor(bad)\n",
        "X_bad[50:200,2,0]=torch.FloatTensor(bad)\n",
        "X_bad[50:200,3,0]=torch.FloatTensor(bad)\n",
        "'''"
      ],
      "execution_count": 0,
      "outputs": [
        {
          "output_type": "execute_result",
          "data": {
            "text/plain": [
              "'\\n# Bad input 4:\\nbad_name=4\\nbad=[]\\nx1=range(50,100)\\nfor i in range(len(x1)): \\n  bad.append( np.cos(x1[i]/10)) #change here\\n\\nx2=range(100,150)\\nfor i in range(len(x2)):\\n  #bad.append(-1) #change here\\n  bad.append( np.cos(x3[i]/10))\\n\\nx3=range(150,200)\\nfor i in range(len(x3)): \\n  bad.append( np.cos(x3[i]/10)) #change here\\n\\nX_bad=X_test[:,0:flags.batch_size,:].data.clone()\\nX_bad[50:200,0,0]=torch.FloatTensor(bad)\\nX_bad[50:200,1,0]=torch.FloatTensor(bad)\\nX_bad[50:200,2,0]=torch.FloatTensor(bad)\\nX_bad[50:200,3,0]=torch.FloatTensor(bad)\\n'"
            ]
          },
          "metadata": {
            "tags": []
          },
          "execution_count": 33
        }
      ]
    },
    {
      "cell_type": "markdown",
      "metadata": {
        "id": "Em-OSSdbiIeX",
        "colab_type": "text"
      },
      "source": [
        "**Bad input 5**"
      ]
    },
    {
      "cell_type": "code",
      "metadata": {
        "id": "1Ru9ICb-iMpp",
        "colab_type": "code",
        "colab": {}
      },
      "source": [
        "#Weird input 5:\n",
        "bad_name=5\n",
        "X_bad=X_test[:,0:flags.batch_size,:].data.clone() \n",
        "X_bad[50:55,0,0]=torch.FloatTensor(list(np.ones(5)*3))\n",
        "X_bad[140:150,0,0]=torch.FloatTensor(list(np.ones(10)*3))\n"
      ],
      "execution_count": 0,
      "outputs": []
    },
    {
      "cell_type": "markdown",
      "metadata": {
        "id": "jaylI1l_iTei",
        "colab_type": "text"
      },
      "source": [
        "**Bad input 6**"
      ]
    },
    {
      "cell_type": "code",
      "metadata": {
        "id": "a2PtlDw3iX8p",
        "colab_type": "code",
        "colab": {}
      },
      "source": [
        "'''\n",
        "#weird 6\n",
        "bad_name=6\n",
        "X_bad=X_test[:,0:flags.batch_size,:].data.clone()\n",
        "bad=[]\n",
        "x1=range(0,30)\n",
        "for i in range(len(x1)): \n",
        "  bad.append( np.cos(x1[i])/10) #change here\n",
        "X_bad[80:110,0,0]=torch.FloatTensor(bad)\n",
        "'''"
      ],
      "execution_count": 0,
      "outputs": []
    },
    {
      "cell_type": "markdown",
      "metadata": {
        "id": "DPY8qUpjifSl",
        "colab_type": "text"
      },
      "source": [
        "**Bad input 7**"
      ]
    },
    {
      "cell_type": "code",
      "metadata": {
        "id": "OeruVxlGj2Cq",
        "colab_type": "code",
        "outputId": "806c6283-cb0c-4ba1-d0ac-c2921285afaf",
        "colab": {
          "base_uri": "https://localhost:8080/",
          "height": 34
        }
      },
      "source": [
        "'''\n",
        "#Bad 7\n",
        "bad_name=7\n",
        "X_bad=X_test[:,0:flags.batch_size,:].data.clone()\n",
        "bad=[]\n",
        "x1=range(0,80)\n",
        "for i in range(len(x1)): \n",
        "  bad.append( np.cos(x1[i]/10)) #change here\n",
        "X_bad[120:200,0,0]=torch.FloatTensor(bad)\n",
        "'''"
      ],
      "execution_count": 0,
      "outputs": [
        {
          "output_type": "execute_result",
          "data": {
            "text/plain": [
              "'\\n#Bad 7\\nbad_name=7\\nX_bad=X_test[:,0:flags.batch_size,:].data.clone()\\nbad=[]\\nx1=range(0,80)\\nfor i in range(len(x1)): \\n  bad.append( np.cos(x1[i]/10)) #change here\\nX_bad[120:200,0,0]=torch.FloatTensor(bad)\\n'"
            ]
          },
          "metadata": {
            "tags": []
          },
          "execution_count": 36
        }
      ]
    },
    {
      "cell_type": "markdown",
      "metadata": {
        "id": "efIrxQrEkBkq",
        "colab_type": "text"
      },
      "source": [
        "**Bad input 8**"
      ]
    },
    {
      "cell_type": "code",
      "metadata": {
        "id": "bE3uyQbmkQnQ",
        "colab_type": "code",
        "colab": {}
      },
      "source": [
        "'''\n",
        "#weird 8\n",
        "bad_name=8\n",
        "X_bad=X_test[:,0:flags.batch_size,:].data.clone()\n",
        "X_bad[60:80,0,0]=X_bad[60:80,0,0]*(-1)\n",
        "'''"
      ],
      "execution_count": 0,
      "outputs": []
    },
    {
      "cell_type": "code",
      "metadata": {
        "id": "uws6qbs5-dRT",
        "colab_type": "code",
        "colab": {}
      },
      "source": [
        "model.eval()\n",
        "output_bad, mu_bad, logvar_bad, lambda_kl_bad, _, c_det_bad,z_bad,c_final_bad = model(X_bad[:,0:flags.batch_size,:])"
      ],
      "execution_count": 0,
      "outputs": []
    },
    {
      "cell_type": "code",
      "metadata": {
        "id": "mL-76mGfV6RI",
        "colab_type": "code",
        "outputId": "1871bac6-d08d-4dbe-f60b-9ab0ee930044",
        "colab": {
          "base_uri": "https://localhost:8080/",
          "height": 334
        }
      },
      "source": [
        "plt.figure(figsize=(16,5))\n",
        "plt.plot((X_bad[:,0,:][:,0]).cpu().detach().numpy())\n",
        "plt.plot((output_bad[:,0,:][:,0]).cpu().detach().numpy())\n",
        "plt.legend([\"Anomalous series\", \"Reconstructed anomalous series\"])\n",
        "plt.ylabel(\"Acceleration value\")\n",
        "plt.xlabel(\"Timestep\")\n",
        "\n",
        "#to save picture:\n",
        "if (flags.save_bad_img=='Yes'):\n",
        "  randnum=int(np.round(np.abs(np.random.normal()),decimals=4)*1000)\n",
        "  plt.savefig('drive/My Drive/Advanced Machine Learning/bad'+str(bad_name)+'_'+'rand'+str(randnum)+'.png')\n",
        "\n",
        "plt.show()\n"
      ],
      "execution_count": 0,
      "outputs": [
        {
          "output_type": "display_data",
          "data": {
            "image/png": "[encoded data removed]",
            "text/plain": [
              "<Figure size 1152x360 with 1 Axes>"
            ]
          },
          "metadata": {
            "tags": [],
            "needs_background": "light"
          }
        }
      ]
    },
    {
      "cell_type": "markdown",
      "metadata": {
        "id": "AtieHl1N3wC8",
        "colab_type": "text"
      },
      "source": [
        "# PCA"
      ]
    },
    {
      "cell_type": "markdown",
      "metadata": {
        "id": "f2HJZgBM9rgH",
        "colab_type": "text"
      },
      "source": [
        "https://jakevdp.github.io/PythonDataScienceHandbook/05.09-principal-component-analysis.html"
      ]
    },
    {
      "cell_type": "markdown",
      "metadata": {
        "id": "4ROh21ExIIAd",
        "colab_type": "text"
      },
      "source": [
        "# Visualize z-vectors, mu-values for z-vectors and context vectors (after reparameterization)"
      ]
    },
    {
      "cell_type": "code",
      "metadata": {
        "id": "aC4PCrhm-nVp",
        "colab_type": "code",
        "outputId": "e1a3427a-3e2d-4bdb-e957-0b4bb1f2af9d",
        "colab": {
          "base_uri": "https://localhost:8080/",
          "height": 1000
        }
      },
      "source": [
        "# Initialize a tensor to contain z's with first batch\n",
        "output, mu, logvar, output_encoder, state_decoder, c_det, z, c_final = model(X_test[:,0:flags.batch_size,:])\n",
        "all_zs = z\n",
        "all_mus = mu\n",
        "all_cfinal = c_final\n",
        "\n",
        "# Iterate over remaining X_test data batches and grab z-values\n",
        "nrofbatches = X_test.shape[1] \n",
        "for batchnr in range(flags.batch_size, nrofbatches, flags.batch_size):\n",
        "  output, mu, logvar, output_encoder, state_decoder, c_det, z, c_final = model(X_test[:,batchnr:batchnr+flags.batch_size,:])\n",
        "  all_zs = torch.cat((all_zs, z), 0)\n",
        "  all_mus = torch.cat((all_mus, mu), 0)\n",
        "  all_cfinal = torch.cat((all_cfinal, c_final), 1)\n",
        "\n",
        "classes = list(np.unique(list_of_labels[0:X_test.shape[1]]))\n",
        "\n",
        "mydict={}\n",
        "i = 0\n",
        "for item in classes:\n",
        "    if(i>0 and item in mydict):\n",
        "        continue\n",
        "    else:    \n",
        "      i = i+1\n",
        "      mydict[item] = i\n",
        "intclasses=[]\n",
        "for item in list_of_labels:\n",
        "    intclasses.append(mydict[item])\n",
        "\n",
        "\n",
        "if flags.latent_size == 2:\n",
        "  xz = all_zs[:,0].cpu().detach().numpy()\n",
        "  yz = all_zs[:,1].cpu().detach().numpy()\n",
        "  colors = ['red','green','blue'] # Add color if more classes come\n",
        "  fig = plt.figure(figsize=(8,8))\n",
        "  scatter = plt.scatter(xz, yz, c=intclasses[0:X_test.shape[1]], cmap=matplotlib.colors.ListedColormap(colors))\n",
        "  plt.legend(handles=scatter.legend_elements()[0], labels=classes)\n",
        "  plt.title(\"Scatter plot of latent space representation of defects\")\n",
        "  plt.xlabel(\"Latent space (z) value\")\n",
        "  plt.show()\n",
        "\n",
        "  xmu = all_mus[:,0].cpu().detach().numpy()\n",
        "  ymu = all_mus[:,1].cpu().detach().numpy()\n",
        "  colors = ['red','green','blue'] # Add color if more classes come\n",
        "  fig = plt.figure(figsize=(8,8))\n",
        "  scatter = plt.scatter(xmu, ymu, c=intclasses[0:X_test.shape[1]], cmap=matplotlib.colors.ListedColormap(colors))\n",
        "  plt.legend(handles=scatter.legend_elements()[0], labels=classes)\n",
        "  plt.title(\"Scatter plot of latent space mu's representation of defects\")\n",
        "  plt.xlabel(\"Latent space mu value\")\n",
        "  plt.show()\n",
        "\n",
        "if flags.latent_size == 1:\n",
        "  xz = all_zs[:,0].cpu().detach().numpy()\n",
        "  yz = torch.rand(len(xz))\n",
        "  colors = ['red','green','blue'] # Add color if more classes come\n",
        "  fig = plt.figure(figsize=(8,8))\n",
        "  scatter = plt.scatter(xz, yz, c=intclasses[0:X_test.shape[1]], cmap=matplotlib.colors.ListedColormap(colors))\n",
        "  plt.legend(handles=scatter.legend_elements()[0], labels=classes)\n",
        "  plt.title(\"Jitter plot of latent space representation of defects\")\n",
        "  plt.xlabel(\"Latent space (z) value\")\n",
        "  plt.ylim(-4,4)\n",
        "  plt.show()\n",
        "\n",
        "  xmu = all_mus[:,0].cpu().detach().numpy()\n",
        "  ymu = torch.rand(len(xmu))\n",
        "  colors = ['red','green','blue'] # Add color if more classes come\n",
        "  fig = plt.figure(figsize=(8,8))\n",
        "  scatter = plt.scatter(xmu, ymu, c=intclasses[0:X_test.shape[1]], cmap=matplotlib.colors.ListedColormap(colors))\n",
        "  plt.legend(handles=scatter.legend_elements()[0], labels=classes)\n",
        "  plt.title(\"Jitter plot of mu latent space representation of defects\")\n",
        "  plt.xlabel(\"Latent space (mu) value\")\n",
        "  plt.ylim(-4,4)\n",
        "  plt.show()\n",
        "\n",
        "\n",
        "\n",
        "if flags.latent_size > 2:\n",
        "  from sklearn.decomposition import PCA\n",
        "  Xz = all_zs.cpu().detach().numpy()\n",
        "  Xzt = Xz.T \n",
        "  pcaz = PCA(2)  # project from latent_size to 2 dimensions\n",
        "  projectedz = pcaz.fit_transform(Xzt)\n",
        "  xz = projectedz[:, 0]\n",
        "  yz = projectedz[:, 1]\n",
        "  colors = ['red','green','blue']\n",
        "  fig = plt.figure(figsize=(8,8))\n",
        "  scatter = plt.scatter(xz, yz, c=intclasses[0:X_test.shape[1]], cmap=matplotlib.colors.ListedColormap(colors))\n",
        "  plt.legend(handles=scatter.legend_elements()[0], labels=classes)\n",
        "  plt.title(\"PCA plot of latent space representation of defects\")\n",
        "  plt.xlabel('Component 1')\n",
        "  plt.ylabel('Component 2')\n",
        "\n",
        "  Xmu = all_mus.cpu().detach().numpy()\n",
        "  Xmu = Xmu.T \n",
        "  pcamu = PCA(2)  # project from latent_size to 2 dimensions\n",
        "  projectedmu = pcamu.fit_transform(Xmu)\n",
        "  xmu = projectedmu[:, 0]\n",
        "  ymu = projectedmu[:, 1]\n",
        "  colors = ['red','green','blue']\n",
        "  fig = plt.figure(figsize=(8,8))\n",
        "  scatter = plt.scatter(xmu, ymu, c=intclasses[0:X_test.shape[1]], cmap=matplotlib.colors.ListedColormap(colors))\n",
        "  plt.legend(handles=scatter.legend_elements()[0], labels=classes)\n",
        "  plt.title(\"PCA plot of latent space mu values of defects\")\n",
        "  plt.xlabel('Component 1')\n",
        "  plt.ylabel('Component 2')\n",
        "\n",
        "\n",
        "# Make PCA of c_final\n",
        "from sklearn import preprocessing\n",
        "Xcfinal = all_cfinal[:,:,0]\n",
        "for latentsizeidx in range(1,flags.attention_size):\n",
        "  Xcfinal = torch.cat((Xcfinal, all_cfinal[:,:,latentsizeidx]), 0)\n",
        "Xcfinal = Xcfinal.cpu().detach().numpy()\n",
        "Xcfinal = preprocessing.scale(Xcfinal)\n",
        "pcacfinal = PCA(2)\n",
        "Xcfinal = np.swapaxes(Xcfinal, 1,0)\n",
        "projectedcfinal = pcacfinal.fit_transform(Xcfinal)\n",
        "xcfinal = projectedcfinal[:, 0]\n",
        "ycfinal = projectedcfinal[:, 1]\n",
        "colors = ['red','green','blue']\n",
        "fig = plt.figure(figsize=(8,8))\n",
        "scatter = plt.scatter(xcfinal, ycfinal, c=intclasses[0:X_test.shape[1]], cmap=matplotlib.colors.ListedColormap(colors))\n",
        "plt.legend(handles=scatter.legend_elements()[0], labels=classes)\n",
        "plt.title(\"PCA plot of attentions c_final\")\n",
        "plt.xlabel('Component 1')\n",
        "plt.ylabel('Component 2')\n",
        "plt.show()"
      ],
      "execution_count": 0,
      "outputs": [
        {
          "output_type": "display_data",
          "data": {
            "image/png": "[encoded data removed]",
            "text/plain": [
              "<Figure size 576x576 with 1 Axes>"
            ]
          },
          "metadata": {
            "tags": [],
            "needs_background": "light"
          }
        },
        {
          "output_type": "display_data",
          "data": {
            "image/png": "[encoded data removed]",
            "text/plain": [
              "<Figure size 576x576 with 1 Axes>"
            ]
          },
          "metadata": {
            "tags": [],
            "needs_background": "light"
          }
        },
        {
          "output_type": "display_data",
          "data": {
            "image/png": "[encoded data removed]",
            "text/plain": [
              "<Figure size 576x576 with 1 Axes>"
            ]
          },
          "metadata": {
            "tags": [],
            "needs_background": "light"
          }
        }
      ]
    },
    {
      "cell_type": "markdown",
      "metadata": {
        "id": "9_CZ6KX9Kt9U",
        "colab_type": "text"
      },
      "source": [
        "# PCA on c_dets"
      ]
    },
    {
      "cell_type": "markdown",
      "metadata": {
        "colab_type": "text",
        "id": "dbST6swUK7RS"
      },
      "source": [
        "##Good data"
      ]
    },
    {
      "cell_type": "markdown",
      "metadata": {
        "id": "AtW2b0dntwlL",
        "colab_type": "text"
      },
      "source": [
        "The timeseries color scale. First collected Lira data is blue, data in the middle of the time series is red and the last is green."
      ]
    },
    {
      "cell_type": "code",
      "metadata": {
        "id": "78tzdVrltwz9",
        "colab_type": "code",
        "colab": {}
      },
      "source": [
        "#from IPython.display import Image\n",
        "#Image(filename='/content/drive/My Drive/Advanced Machine Learning/spring_scale.png')"
      ],
      "execution_count": 0,
      "outputs": []
    },
    {
      "cell_type": "code",
      "metadata": {
        "id": "c09kcZ_uwQHm",
        "colab_type": "code",
        "outputId": "49b8089b-e627-466c-d1d4-09bd44cc7332",
        "colab": {
          "base_uri": "https://localhost:8080/",
          "height": 63
        }
      },
      "source": [
        "from IPython.display import Image\n",
        "Image(filename='/content/drive/My Drive/Advanced Machine Learning/brg_scale.png')"
      ],
      "execution_count": 0,
      "outputs": [
        {
          "output_type": "execute_result",
          "data": {
            "image/png": "[encoded data removed]",
            "text/plain": [
              "<IPython.core.display.Image object>"
            ]
          },
          "metadata": {
            "tags": []
          },
          "execution_count": 42
        }
      ]
    },
    {
      "cell_type": "code",
      "metadata": {
        "id": "5NUlkuBI6NfH",
        "colab_type": "code",
        "colab": {}
      },
      "source": [
        "from sklearn.decomposition import PCA"
      ],
      "execution_count": 0,
      "outputs": []
    },
    {
      "cell_type": "code",
      "metadata": {
        "id": "6QLl7EOlUbjz",
        "colab_type": "code",
        "colab": {}
      },
      "source": [
        "#https://stackoverflow.com/questions/38208700/matplotlib-plot-lines-with-colors-through-colormap\n",
        "#https://matplotlib.org/examples/color/colormaps_reference.html\n",
        "n = flags.seq_size\n",
        "#colors = plt.cm.viridis(np.linspace(0,1,n))\n",
        "#colors = plt.cm.jet(np.linspace(0,1,n))\n",
        "#colors = plt.cm.spring(np.linspace(0,1,n))\n",
        "colors = plt.cm.brg(np.linspace(0,1,n))"
      ],
      "execution_count": 0,
      "outputs": []
    },
    {
      "cell_type": "code",
      "metadata": {
        "colab_type": "code",
        "id": "vaZahUg7K7Rk",
        "colab": {}
      },
      "source": [
        "X=c_det_to_pca.cpu().detach().numpy()\n",
        "nsamples, nx, ny = X.shape\n",
        "d2_train_dataset = X.reshape((nsamples,nx*ny))\n"
      ],
      "execution_count": 0,
      "outputs": []
    },
    {
      "cell_type": "code",
      "metadata": {
        "colab_type": "code",
        "outputId": "bedcae09-457b-4746-b76a-6137ef12245f",
        "id": "jYvlee4iK7Rn",
        "colab": {
          "base_uri": "https://localhost:8080/",
          "height": 460
        }
      },
      "source": [
        "\n",
        "X=d2_train_dataset\n",
        "\n",
        "pca = PCA(2)  # project from 64 to 2 dimensions\n",
        "projected = pca.fit_transform(X)\n",
        "plt.figure(figsize=(18, 7))\n",
        "plt.scatter(projected[:, 0], projected[:, 1],\n",
        "             #edgecolor='none', \n",
        "            alpha=0.9,\n",
        "              c=colors,s=20)#,\n",
        "            #cmap=plt.cm.get_cmap('jet'))\n",
        "ax=plt.axes()\n",
        "ax.set_facecolor(\"black\")\n",
        "plt.xlabel('component 1')\n",
        "plt.ylabel('component 2')\n",
        "#plt.colorbar();"
      ],
      "execution_count": 0,
      "outputs": [
        {
          "output_type": "execute_result",
          "data": {
            "text/plain": [
              "Text(0, 0.5, 'component 2')"
            ]
          },
          "metadata": {
            "tags": []
          },
          "execution_count": 46
        },
        {
          "output_type": "display_data",
          "data": {
            "image/png": "[encoded data removed]",
            "text/plain": [
              "<Figure size 1296x504 with 1 Axes>"
            ]
          },
          "metadata": {
            "tags": [],
            "needs_background": "light"
          }
        }
      ]
    },
    {
      "cell_type": "markdown",
      "metadata": {
        "colab_type": "text",
        "id": "c3vjedhoK7Ru"
      },
      "source": [
        "## Bad data\n"
      ]
    },
    {
      "cell_type": "code",
      "metadata": {
        "colab_type": "code",
        "id": "gtXUZBujK7Rx",
        "colab": {}
      },
      "source": [
        "X3=c_det_bad.cpu().detach().numpy()\n",
        "nsamples, nx, ny = X3.shape\n",
        "d2_train_dataset = X3.reshape((nsamples,nx*ny))\n"
      ],
      "execution_count": 0,
      "outputs": []
    },
    {
      "cell_type": "code",
      "metadata": {
        "colab_type": "code",
        "outputId": "4bbf41bb-ed4a-42b6-d5e9-fd9a8e658cbf",
        "id": "oNmEzM73K7R0",
        "colab": {
          "base_uri": "https://localhost:8080/",
          "height": 460
        }
      },
      "source": [
        "\n",
        "X3=d2_train_dataset\n",
        "\n",
        "pca = PCA(2)  # project from 64 to 2 dimensions\n",
        "projected = pca.fit_transform(X3)\n",
        "plt.figure(figsize=(18, 7))\n",
        "plt.scatter(projected[:, 0], projected[:, 1],\n",
        "             #edgecolor='none', \n",
        "            alpha=0.9,\n",
        "            s=20\n",
        "            ,c=colors)#,\n",
        "            #cmap=plt.cm.get_cmap('Accent', 2))\n",
        "ax=plt.axes()\n",
        "ax.set_facecolor(\"black\")\n",
        "plt.xlabel('component 1')\n",
        "plt.ylabel('component 2')\n"
      ],
      "execution_count": 0,
      "outputs": [
        {
          "output_type": "execute_result",
          "data": {
            "text/plain": [
              "Text(0, 0.5, 'component 2')"
            ]
          },
          "metadata": {
            "tags": []
          },
          "execution_count": 48
        },
        {
          "output_type": "display_data",
          "data": {
            "image/png": "[encoded data removed]",
            "text/plain": [
              "<Figure size 1296x504 with 1 Axes>"
            ]
          },
          "metadata": {
            "tags": [],
            "needs_background": "light"
          }
        }
      ]
    },
    {
      "cell_type": "markdown",
      "metadata": {
        "colab_type": "text",
        "id": "sxM-iz8ZGjFb"
      },
      "source": [
        "## PCA on specific\n"
      ]
    },
    {
      "cell_type": "code",
      "metadata": {
        "colab_type": "code",
        "id": "RoHSa4zhGjFv",
        "colab": {}
      },
      "source": [
        "X3=c_det_specific.cpu().detach().numpy()\n",
        "nsamples, nx, ny = X3.shape\n",
        "d2_train_dataset = X3.reshape((nsamples,nx*ny))\n"
      ],
      "execution_count": 0,
      "outputs": []
    },
    {
      "cell_type": "code",
      "metadata": {
        "colab_type": "code",
        "outputId": "91b34d55-10f6-4e5b-f910-6a30d5008231",
        "id": "lUHOLd2hGjGA",
        "colab": {
          "base_uri": "https://localhost:8080/",
          "height": 463
        }
      },
      "source": [
        "\n",
        "X3=d2_train_dataset\n",
        "\n",
        "pca = PCA(2)  # project from 64 to 2 dimensions\n",
        "projected = pca.fit_transform(X3)\n",
        "plt.figure(figsize=(18, 7))\n",
        "plt.scatter(projected[:, 0], projected[:, 1],\n",
        "             #edgecolor='none', \n",
        "            alpha=0.9,\n",
        "            s=20\n",
        "            ,c=colors)#,\n",
        "            #cmap=plt.cm.get_cmap('Accent', 2))\n",
        "ax=plt.axes()\n",
        "ax.set_facecolor(\"black\")\n",
        "plt.xlabel('component 1')\n",
        "plt.ylabel('component 2')\n"
      ],
      "execution_count": 0,
      "outputs": [
        {
          "output_type": "execute_result",
          "data": {
            "text/plain": [
              "Text(0, 0.5, 'component 2')"
            ]
          },
          "metadata": {
            "tags": []
          },
          "execution_count": 50
        },
        {
          "output_type": "display_data",
          "data": {
            "image/png": "[encoded data removed]",
            "text/plain": [
              "<Figure size 1296x504 with 1 Axes>"
            ]
          },
          "metadata": {
            "tags": [],
            "needs_background": "light"
          }
        }
      ]
    }
  ]
}