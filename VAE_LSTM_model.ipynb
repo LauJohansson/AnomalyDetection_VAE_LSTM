{
  "nbformat": 4,
  "nbformat_minor": 0,
  "metadata": {
    "colab": {
      "name": "VAE_LSTM_model.ipynb",
      "provenance": [],
      "collapsed_sections": [],
      "machine_shape": "hm",
      "include_colab_link": true
    },
    "kernelspec": {
      "name": "python3",
      "display_name": "Python 3"
    },
    "accelerator": "GPU"
  },
  "cells": [
    {
      "cell_type": "markdown",
      "metadata": {
        "id": "view-in-github",
        "colab_type": "text"
      },
      "source": [
        "<a href=\"https://colab.research.google.com/github/LauJohansson/AnomalyDetection_VariationalAutoencoderLSTM/blob/master/VAE_LSTM_model.ipynb\" target=\"_parent\"><img src=\"https://colab.research.google.com/assets/colab-badge.svg\" alt=\"Open In Colab\"/></a>"
      ]
    },
    {
      "cell_type": "markdown",
      "metadata": {
        "id": "4KRZlc5d5wli",
        "colab_type": "text"
      },
      "source": [
        "#Variational autoencoder\n",
        "*Authors: Jonas Søbro Christophersen & Lau Johansson*\n"
      ]
    },
    {
      "cell_type": "markdown",
      "metadata": {
        "id": "XKi4iU3I5JLt",
        "colab_type": "text"
      },
      "source": [
        "# Importing and data preparation"
      ]
    },
    {
      "cell_type": "markdown",
      "metadata": {
        "id": "laHzF7l85P66",
        "colab_type": "text"
      },
      "source": [
        "## Import"
      ]
    },
    {
      "cell_type": "code",
      "metadata": {
        "id": "pesTbkEdUxjS",
        "colab_type": "code",
        "colab": {}
      },
      "source": [
        "from __future__ import print_function\n",
        "import argparse\n",
        "\n",
        "import torch\n",
        "import torch.utils.data\n",
        "from torch import nn, optim\n",
        "from torch.nn import functional as F\n",
        "from torchvision import datasets, transforms\n",
        "from torchvision.utils import save_image\n",
        "import numpy as np\n",
        "import pandas as pd\n",
        "import matplotlib.pyplot as plt\n",
        "from datetime import datetime\n",
        "from sklearn.preprocessing import normalize \n",
        "\n",
        "torch.cuda.empty_cache()\n",
        "device = torch.device('cuda:0' if torch.cuda.is_available() else 'cpu')\n",
        "\n",
        "#Set seed\n",
        "torch.manual_seed(0)\n",
        "\n",
        "#Function to test memory usage\n",
        "def print_memory(a):\n",
        "  print(\"Tensor is using {} MB memory.\".format(a.element_size() * a.nelement() * 1e-6 ))"
      ],
      "execution_count": 0,
      "outputs": []
    },
    {
      "cell_type": "markdown",
      "metadata": {
        "id": "q2Nql7215Sby",
        "colab_type": "text"
      },
      "source": [
        "## Flags\n",
        "This namespace contains all hyperparameters for the model"
      ]
    },
    {
      "cell_type": "code",
      "metadata": {
        "id": "g2LSqEGbXkSU",
        "colab_type": "code",
        "outputId": "dbd4c20e-77ab-49d3-c6f1-0ea662e429f5",
        "colab": {
          "base_uri": "https://localhost:8080/",
          "height": 34
        }
      },
      "source": [
        "# Flags for the model\n",
        "flags = argparse.Namespace(\n",
        "    print_every=1, #lower value, more often test/train loss print. Based on epoch\n",
        "    lstm_size = 128,\n",
        "    latent_size = 1,\n",
        "    input_size = 2, # \n",
        "    learning_rate = 1e-2,\n",
        "    seq_size = 500,\n",
        "    n_lay = 1,\n",
        "    batch_size = 4,\n",
        "    print_interval = 2,\n",
        "    epochs = 5,\n",
        "    number_of_noisy_obs=5,\n",
        "    lambda_kl=0.001, #tune the prior? fit data vs. fit prior. Prior is zero mean gussian. try to set it to 0\n",
        "    lambda_max=1,\n",
        "    lambda_update_rate=0.01,\n",
        "    num_of_directions=2,\n",
        "    attention_size=3,\n",
        "    optimizer_choice='AdamW', #AdamW , #SGD\n",
        "    mode = \"online small data\", #\"online small/big data\"\n",
        "    number_of_data_files=1000,\n",
        "    pickle='No' #No\n",
        ") \n",
        "device = torch.device('cuda' if torch.cuda.is_available() else 'cpu')\n",
        "print(device)"
      ],
      "execution_count": 0,
      "outputs": [
        {
          "output_type": "stream",
          "text": [
            "cuda\n"
          ],
          "name": "stdout"
        }
      ]
    },
    {
      "cell_type": "markdown",
      "metadata": {
        "id": "YbwBOyBV5dTI",
        "colab_type": "text"
      },
      "source": [
        "## Loading data"
      ]
    },
    {
      "cell_type": "code",
      "metadata": {
        "id": "rhMyE5uUu8jl",
        "colab_type": "code",
        "outputId": "a405486f-2d87-4efa-98a0-476cfc287551",
        "colab": {
          "base_uri": "https://localhost:8080/",
          "height": 68
        }
      },
      "source": [
        "\n",
        "####### LOAD NEW DATA\n",
        "\n",
        "if (flags.pickle!='Yes'):\n",
        "  if flags.mode == \"online big data\":\n",
        "    # Load data\n",
        "    #https://lab.compute.dtu.dk/02460F20-tsad/shared\n",
        "\n",
        "    import glob\n",
        "    from scipy.io import loadmat\n",
        "\n",
        "    from google.colab import drive\n",
        "\n",
        "    drive.mount('/content/drive')\n",
        "\n",
        "    # Load files for given cases only\n",
        "    input_dir = 'drive/My Drive/Advanced Machine Learning/data/Lira/Synth_data_20042020_speed40/'\n",
        "    #min_index = 7000\n",
        "    #max_index = 18000\n",
        "    file_pattern = '{0}*.mat'.format(input_dir)\n",
        "\n",
        "    # Load data from mat files into python dictionary\n",
        "    data = {}\n",
        "    print('Loading data....')\n",
        "    i=1\n",
        "    for filename in glob.glob(file_pattern):\n",
        "        i=i+1\n",
        "        if(i==flags.number_of_data_files):\n",
        "          break;\n",
        "        \n",
        "        #print('Loading file: {0}'.format(filename))\n",
        "        defect_type = filename.split('_')[-3] # changed to -3 from -2\n",
        "\n",
        "        # Get variables\n",
        "        f = loadmat(filename)\n",
        "        acc = f['acceleration'][:,:].reshape(1,-1)\n",
        "        time = f['time'][:,:].reshape(1,-1)\n",
        "        label = f['type'][:,:].reshape(1,-1)\n",
        "        severity = f['severity'][:,:].reshape(1,-1)\n",
        "\n",
        "        # Update dictionary with the data from this file\n",
        "        data[filename] = {'time':time, 'acc':acc, 'true_labels':label, 'severity':severity, 'defect':defect_type}\n",
        "    print('Loading finished.')\n",
        "    list_of_filenames = list(data.keys())\n",
        "\n",
        "  ##############################################################################\n",
        "\n",
        "  if flags.mode == \"online small data\":\n",
        "    # Load data\n",
        "    #https://lab.compute.dtu.dk/02460F20-tsad/shared\n",
        "\n",
        "    import glob\n",
        "    from scipy.io import loadmat\n",
        "\n",
        "    from google.colab import drive\n",
        "\n",
        "    drive.mount('/content/drive')\n",
        "\n",
        "    # Load files for given cases only\n",
        "    input_dir = 'drive/My Drive/Advanced Machine Learning/data/Lira/Synt_data_20052019/'\n",
        "    min_index = 7000\n",
        "    max_index = 18000\n",
        "    file_pattern = '{0}*.mat'.format(input_dir)\n",
        "\n",
        "    # Load data from mat files into python dictionary\n",
        "    data = {}\n",
        "    print('Loading files...')\n",
        "    for filename in glob.glob(file_pattern):\n",
        "        #print('Loading file: {0}'.format(filename))\n",
        "        defect_type = filename.split('_')[-2]\n",
        "\n",
        "        # Get variables\n",
        "        f = loadmat(filename)\n",
        "        acc = f['acceleration'][min_index:max_index,:].reshape(1,-1)\n",
        "        time = f['time'][min_index:max_index,:].reshape(1,-1)\n",
        "        label = f['type'][min_index:max_index,:].reshape(1,-1)\n",
        "        severity = f['severity'][min_index:max_index,:].reshape(1,-1)\n",
        "\n",
        "        # Update dictionary with the data from this file\n",
        "        data[filename] = {'time':time, 'acc':acc, 'true_labels':label, 'severity':severity, 'defect':defect_type}\n",
        "\n",
        "    list_of_filenames = list(data.keys())\n",
        "    print('Loading done!')\n",
        "\n",
        "\n",
        "  ###############################################################################\n",
        "  if flags.mode == \"local\":\n",
        "    import glob\n",
        "    from scipy.io import loadmat\n",
        "\n",
        "    # Load files for given cases only\n",
        "    input_dir = 'D:/DataForProgramming/lira/data/Lira/Synt_data_20052019/'\n",
        "    min_index = 7000\n",
        "    max_index = 18000\n",
        "    file_pattern = '{0}*.mat'.format(input_dir)\n",
        "\n",
        "    # Load data from mat files into python dictionary\n",
        "    data = {}\n",
        "    print('Loading files...')\n",
        "    for filename in glob.glob(file_pattern):\n",
        "        #print('Loading file: {0}'.format(filename))\n",
        "        \n",
        "        defect_type = filename.split('_')[-2]\n",
        "\n",
        "        # Get variables\n",
        "        f = loadmat(filename)\n",
        "        acc = f['acceleration'][min_index:max_index,:].reshape(1,-1)\n",
        "        time = f['time'][min_index:max_index,:].reshape(1,-1)\n",
        "        label = f['type'][min_index:max_index,:].reshape(1,-1)\n",
        "        severity = f['severity'][min_index:max_index,:].reshape(1,-1)\n",
        "\n",
        "        # Update dictionary with the data from this file\n",
        "        data[filename] = {'time':time, 'acc':acc, 'true_labels':label, 'severity':severity, 'defect':defect_type}\n",
        "    print('Loading finish')\n",
        "    list_of_filenames = list(data.keys())\n",
        "\n",
        "if flags.pickle == \"Yes\":\n",
        "  print('Pickle is used')"
      ],
      "execution_count": 0,
      "outputs": [
        {
          "output_type": "stream",
          "text": [
            "Drive already mounted at /content/drive; to attempt to forcibly remount, call drive.mount(\"/content/drive\", force_remount=True).\n",
            "Loading files...\n",
            "Loading done!\n"
          ],
          "name": "stdout"
        }
      ]
    },
    {
      "cell_type": "markdown",
      "metadata": {
        "id": "GupQ-jHb9rvq",
        "colab_type": "text"
      },
      "source": [
        "### Data generator"
      ]
    },
    {
      "cell_type": "code",
      "metadata": {
        "id": "SpMcZeNxTXhl",
        "colab_type": "code",
        "outputId": "0e72e962-eaf9-4e7c-ef36-fd66b07f9f76",
        "colab": {
          "base_uri": "https://localhost:8080/",
          "height": 51
        }
      },
      "source": [
        "if (flags.pickle!='Yes'):\n",
        "  data_list = []\n",
        "  # Get all crack data\n",
        "\n",
        "  print('Generating...')\n",
        "  for k in range(len(list_of_filenames)):\n",
        "    if (flags.mode=='online small data'): #When small data online take crack\n",
        "      if (data[list_of_filenames[k]]['defect'] == 'crack'):\n",
        "        \n",
        "        #selected every column and normalizing\n",
        "        \n",
        "        col1 = data[list_of_filenames[k]]['acc'][0]\n",
        "        col2 = data[list_of_filenames[k]]['severity'][0]\n",
        "        col3 = data[list_of_filenames[k]]['time'][0]  \n",
        "        col4 = data[list_of_filenames[k]]['true_labels'][0]\n",
        "\n",
        "        for l in range(flags.number_of_noisy_obs): # Add noisy observations\n",
        "          noisy_col1 = col1 + np.random.normal(0,np.std(col1) / 5 ,len(col1))\n",
        "          noisy_col2 = col2 + np.random.normal(0,np.std(col2) / 5 ,len(col2))\n",
        "          data_list.append(([noisy_col1, noisy_col2, col3, col4]))\n",
        "          #data_list.append(([normalize([noisy_col1]), normalize([noisy_col2]), col3, col4]))\n",
        "\n",
        "        data_list.append(([col1, col2, col3, col4])) # add original data\n",
        "        #data_list.append(([normalize([col1]), normalize([col2]), col3, col4])) # add original data normalized\n",
        "    else:\n",
        "        col1 = normalize(data[list_of_filenames[k]]['acc'][0]) \n",
        "        col2 = normalize(data[list_of_filenames[k]]['severity'][0]) \n",
        "        col3 = data[list_of_filenames[k]]['time'][0] \n",
        "        col4 = data[list_of_filenames[k]]['true_labels'][0]\n",
        "\n",
        "        for l in range(flags.number_of_noisy_obs): # Add noisy observations\n",
        "          \n",
        "          noisy_col1 = col1 + np.random.normal(0,np.std(col1) / 5 ,len(col1))\n",
        "          \n",
        "          noisy_col2 = col2 + np.random.normal(0,np.std(col2) / 5 ,len(col2))\n",
        "          data_list.append(([noisy_col1, noisy_col2, col3, col4]))\n",
        "          #data_list.append(([normalize(noisy_col1.reshape(-1,1)), normalize(noisy_col2.reshape(-1,1)), col3, col4]))\n",
        "\n",
        "        data_list.append(([col1, col2, col3, col4])) # add original data\n",
        "        #data_list.append(([normalize(col1.reshape(-1,1)), normalize(col2.reshape(-1,1)), col3, col4])) # add original data normalized\n",
        "  data_torch = torch.tensor(data_list)\n",
        "  data_torch = data_torch.permute(2, 0, 1)\n",
        "  data_torch = data_torch.float()\n",
        "  data_torch=data_torch.to(device)\n",
        "  print('Generation done!')\n",
        "\n",
        "else:\n",
        "  print('Pickle is used!')"
      ],
      "execution_count": 0,
      "outputs": [
        {
          "output_type": "stream",
          "text": [
            "Generating...\n",
            "Generation done!\n"
          ],
          "name": "stdout"
        }
      ]
    },
    {
      "cell_type": "markdown",
      "metadata": {
        "id": "wj4DMokPTEil",
        "colab_type": "text"
      },
      "source": [
        "## loading pickle instead"
      ]
    },
    {
      "cell_type": "code",
      "metadata": {
        "id": "cCHxc4vPTEt9",
        "colab_type": "code",
        "colab": {}
      },
      "source": [
        "if (flags.pickle=='Yes'):\n",
        "  # LOAD PRELOADED DATA\n",
        "  print('Loading...')\n",
        "  list_of_labels = torch.load('/content/drive/My Drive/Advanced Machine Learning/data/list_of_labels.pth')\n",
        "  data_torch = torch.load('/content/drive/My Drive/Advanced Machine Learning/data/data_torch.pth')\n",
        "  print('Loading done!')"
      ],
      "execution_count": 0,
      "outputs": []
    },
    {
      "cell_type": "markdown",
      "metadata": {
        "id": "49BBI03x9uqE",
        "colab_type": "text"
      },
      "source": [
        "### Data train/test splitter"
      ]
    },
    {
      "cell_type": "markdown",
      "metadata": {
        "id": "HabjUyscq-PR",
        "colab_type": "text"
      },
      "source": [
        "Check the dimension of the data:"
      ]
    },
    {
      "cell_type": "code",
      "metadata": {
        "id": "771qKl1LPnck",
        "colab_type": "code",
        "outputId": "f2eb56c5-d71f-400e-b7cb-f43a0eacdaf5",
        "colab": {
          "base_uri": "https://localhost:8080/",
          "height": 34
        }
      },
      "source": [
        "#data_list has all data\n",
        "print(data_torch.shape)"
      ],
      "execution_count": 0,
      "outputs": [
        {
          "output_type": "stream",
          "text": [
            "torch.Size([11000, 48, 4])\n"
          ],
          "name": "stdout"
        }
      ]
    },
    {
      "cell_type": "markdown",
      "metadata": {
        "id": "i3mTF7P2rCoN",
        "colab_type": "text"
      },
      "source": [
        "Slicing data so it only has a sequence length of 500 and not long tails:"
      ]
    },
    {
      "cell_type": "code",
      "metadata": {
        "id": "mSck_-eY9u9C",
        "colab_type": "code",
        "outputId": "ef92ff88-3f34-42a9-df30-fed301877b8f",
        "colab": {
          "base_uri": "https://localhost:8080/",
          "height": 51
        }
      },
      "source": [
        "\n",
        "#fraction=int(data_torch.shape[1]*0.8)\n",
        "#X_train=data_torch[:,:fraction,:]\n",
        "#X_test=data_torch[:,fraction+1:,:]\n",
        "\n",
        "#\n",
        "\n",
        "\n",
        "if (flags.pickle=='Yes' or flags.mode=='online big data'):\n",
        "  start_slice=100 # 2000\n",
        "  end_slice=600   #7000\n",
        "  nm_p=1 #take every nm_p point\n",
        "\n",
        "  train_batch_idx=200#40\n",
        "  test_batch_idx=220 #60 #(when small data)\n",
        "\n",
        "  X_train=data_torch[start_slice:end_slice:nm_p,:train_batch_idx,:2] #only acceleration and severity\n",
        "  X_test=data_torch[start_slice:end_slice:nm_p,train_batch_idx:test_batch_idx,:2]\n",
        "\n",
        "elif(flags.mode=='online small data'):\n",
        "  start_slice= 2000\n",
        "  end_slice=7000\n",
        "  nm_p=10 #take every nm_p point\n",
        "\n",
        "  train_batch_idx=40\n",
        "  test_batch_idx=60 #(when small data)\n",
        "\n",
        "  X_train=data_torch[start_slice:end_slice:nm_p,:train_batch_idx,:2] #only acceleration and severity\n",
        "  X_test=data_torch[start_slice:end_slice:nm_p,train_batch_idx:test_batch_idx,:2]\n",
        "\n",
        "else:\n",
        "  raise Exception('Data not loaded properly')\n",
        "\n",
        "print('The shape of X_train: {}'.format(X_train.shape))\n",
        "print('The shape of X_test: {}'.format(X_test.shape))\n",
        "\n",
        "\n",
        "#X_train=F.normalize(X_train,dim=0) #normalize\n",
        "#X_test=F.normalize(X_test,dim=0)\n",
        "\n",
        "\n",
        "#means = X_train.mean(dim=0, keepdim=True)\n",
        "#stds = X_train.std(dim=0, keepdim=True)\n",
        "#normalized_X_Train_data = (X_train - means) / stds\n",
        "#X_train=normalized_X_Train_data\n",
        "\n"
      ],
      "execution_count": 0,
      "outputs": [
        {
          "output_type": "stream",
          "text": [
            "The shape of X_train: torch.Size([500, 40, 2])\n",
            "The shape of X_test: torch.Size([500, 8, 2])\n"
          ],
          "name": "stdout"
        }
      ]
    },
    {
      "cell_type": "code",
      "metadata": {
        "id": "c4uXMinRt6pE",
        "colab_type": "code",
        "colab": {}
      },
      "source": [
        "from sklearn import preprocessing\n"
      ],
      "execution_count": 0,
      "outputs": []
    },
    {
      "cell_type": "code",
      "metadata": {
        "id": "GItEE0bsuLRy",
        "colab_type": "code",
        "colab": {}
      },
      "source": [
        "#for i in range(X_train.shape[1]):\n",
        "#  for j in range(X_train.shape[2]):\n",
        "#    mini=X_train[:,i,j].min()\n",
        "#    maxi=X_train[:,i,j].max()\n",
        "#    X_train[:,i,j]=torch.FloatTensor(preprocessing.scale(X_train[:,i,j].cpu().numpy()))"
      ],
      "execution_count": 0,
      "outputs": []
    },
    {
      "cell_type": "code",
      "metadata": {
        "id": "T3kmwet6WtBI",
        "colab_type": "code",
        "colab": {}
      },
      "source": [
        "for i in range(X_train.shape[1]):\n",
        "  for j in range(X_train.shape[2]):\n",
        "    mini=X_train[:,i,j].min()\n",
        "    maxi=X_train[:,i,j].max()\n",
        "    X_train[:,i,j]=2*((X_train[:,i,j]-mini)/(maxi-mini))-1"
      ],
      "execution_count": 0,
      "outputs": []
    },
    {
      "cell_type": "code",
      "metadata": {
        "id": "XydY_GppcndP",
        "colab_type": "code",
        "colab": {}
      },
      "source": [
        "for i in range(X_test.shape[1]):\n",
        "  for j in range(X_test.shape[2]):\n",
        "    mini=X_test[:,i,j].min()\n",
        "    maxi=X_test[:,i,j].max()\n",
        "    X_test[:,i,j]=2*((X_test[:,i,j]-mini)/(maxi-mini))-1"
      ],
      "execution_count": 0,
      "outputs": []
    },
    {
      "cell_type": "code",
      "metadata": {
        "id": "hWZeTESJjAaf",
        "colab_type": "code",
        "outputId": "b3035e89-6a34-452e-fcfc-7d1fce362d8d",
        "colab": {
          "base_uri": "https://localhost:8080/",
          "height": 51
        }
      },
      "source": [
        "print('The shape of X_train: {}'.format(X_train.shape))\n",
        "print('The shape of X_test: {}'.format(X_test.shape))\n"
      ],
      "execution_count": 0,
      "outputs": [
        {
          "output_type": "stream",
          "text": [
            "The shape of X_train: torch.Size([500, 40, 2])\n",
            "The shape of X_test: torch.Size([500, 8, 2])\n"
          ],
          "name": "stdout"
        }
      ]
    },
    {
      "cell_type": "code",
      "metadata": {
        "id": "Y3R4aAtoj7NY",
        "colab_type": "code",
        "colab": {}
      },
      "source": [
        "#X_train[2,0,1]"
      ],
      "execution_count": 0,
      "outputs": []
    },
    {
      "cell_type": "markdown",
      "metadata": {
        "id": "TNZCU9PF5jv_",
        "colab_type": "text"
      },
      "source": [
        "### Plotting data"
      ]
    },
    {
      "cell_type": "code",
      "metadata": {
        "id": "QzuJdtRZ3r8s",
        "colab_type": "code",
        "colab": {}
      },
      "source": [
        "#batch_norm=nn.BatchNorm1d(4)\n",
        "#X_train[:,0:flags.batch_size,:]=batch_norm(X_train[:,0:flags.batch_size,:].cpu())"
      ],
      "execution_count": 0,
      "outputs": []
    },
    {
      "cell_type": "code",
      "metadata": {
        "id": "b5zpn9oeK2ak",
        "colab_type": "code",
        "outputId": "852322d0-7a29-42d6-dc4a-8403352bf01e",
        "colab": {
          "base_uri": "https://localhost:8080/",
          "height": 147
        }
      },
      "source": [
        "# Plot true data (0 is acceleration)\n",
        "plt.subplot(2,1,1)\n",
        "plt.plot((X_train[:,0,:][:,0]).cpu().detach().numpy())\n",
        "plt.show()"
      ],
      "execution_count": 0,
      "outputs": [
        {
          "output_type": "display_data",
          "data": {
            "image/png": "[encoded data removed]",
            "text/plain": [
              "<Figure size 432x288 with 1 Axes>"
            ]
          },
          "metadata": {
            "tags": [],
            "needs_background": "light"
          }
        }
      ]
    },
    {
      "cell_type": "code",
      "metadata": {
        "id": "-604B5wbAa5j",
        "colab_type": "code",
        "outputId": "b7c3acec-ed9c-459a-db3f-608d781649e9",
        "colab": {
          "base_uri": "https://localhost:8080/",
          "height": 147
        }
      },
      "source": [
        "# Plot true data (1 is seveiry)\n",
        "plt.subplot(2,1,1)\n",
        "plt.plot((X_train[:,0,:][:,1]).cpu().detach().numpy())\n",
        "plt.show()"
      ],
      "execution_count": 0,
      "outputs": [
        {
          "output_type": "display_data",
          "data": {
            "image/png": "[encoded data removed]",
            "text/plain": [
              "<Figure size 432x288 with 1 Axes>"
            ]
          },
          "metadata": {
            "tags": [],
            "needs_background": "light"
          }
        }
      ]
    },
    {
      "cell_type": "markdown",
      "metadata": {
        "id": "pUodcfMlyj_z",
        "colab_type": "text"
      },
      "source": [
        "# The Model"
      ]
    },
    {
      "cell_type": "code",
      "metadata": {
        "id": "bzqagkY3VKq5",
        "colab_type": "code",
        "colab": {}
      },
      "source": [
        "class VAE(nn.Module):\n",
        "    def __init__(self):\n",
        "        super(VAE, self).__init__()\n",
        "        self.seq_size = flags.seq_size\n",
        "        self.lstm_size = flags.lstm_size\n",
        "        self.latent_size = flags.latent_size\n",
        "        self.attention_size=flags.attention_size\n",
        "        self.input_size = flags.input_size\n",
        "        self.batch_size = flags.batch_size\n",
        "        self.num_layers = flags.n_lay\n",
        "        self.directions=flags.num_of_directions\n",
        "        self.batch_norm=nn.BatchNorm1d(self.input_size)\n",
        "        self.softmax = nn.Softmax(dim=0)\n",
        "        self.SoftP=nn.Softplus()\n",
        "\n",
        "        #Encoder lstm:\n",
        "        self.encoder1 = nn.LSTM(self.input_size, self.lstm_size, self.num_layers, bidirectional = True)\n",
        "\n",
        "        #Linear from encoder to variational layer\n",
        "        self.encoder_mu = nn.Linear(self.lstm_size * self.batch_size * self.directions, self.latent_size * self.batch_size) \n",
        "        self.encoder_logvar = nn.Linear(self.lstm_size* self.batch_size * self.directions, self.latent_size * self.batch_size)\n",
        "        \n",
        "        #Attention to decoder\n",
        "        #Mean and variance linear layer for transforming c_det ----->  to c_t\n",
        "        self.encoder_att_mu = nn.Linear(self.batch_size * self.lstm_size * self.directions , self.batch_size * self.attention_size )\n",
        "        self.encoder_att_logvar = nn.Linear(self.batch_size * self.lstm_size * self.directions , self.batch_size * self.attention_size )\n",
        "         \n",
        "        #Decoder lstm\n",
        "        self.decoder1 = nn.LSTM(self.latent_size + self.attention_size, self.lstm_size, self.num_layers, bidirectional = True) #*2 because z and c has same dimension\n",
        "\n",
        "        #Linear from decoder lstm to output\n",
        "        self.reconstruction_mu = nn.Linear(self.batch_size * self.lstm_size * self.directions, self.batch_size * self.input_size)\n",
        "\n",
        "\n",
        "    def encode(self, x):\n",
        "        \n",
        "        #Pass input to encoder lstm\n",
        "        output_encoder, (h_n,c_n) = self.encoder1(x)\n",
        "        \n",
        "        #Tanh activation on lstm last hidden \n",
        "        h1 = torch.tanh(h_n).view(-1,self.lstm_size * self.batch_size * self.directions) \n",
        "        \n",
        "\n",
        "        #Return encoded mu and logvar ( with softplus) ready to variational-layer. Returning output ready to \"attention-layer\"\n",
        "        return self.encoder_mu(h1), self.SoftP(self.encoder_logvar(h1)), output_encoder \n",
        "\n",
        "    def reparameterize(self, mu, logvar):\n",
        "        std = torch.exp(0.5*logvar)\n",
        "        eps = torch.randn_like(std) #randn_like -> mean 0 and standarddeviation 1. Dimension same as \"std\"\n",
        "        return mu + eps*std\n",
        "        \n",
        "    def attention(self, out_encoder):\n",
        "        # Compute score S atrix s11, s12, ... sTT and A scores.\n",
        "        for batch_idx in range(self.batch_size):\n",
        "           \n",
        "            if batch_idx == 0:\n",
        "                s_tensor = torch.div(torch.matmul(out_encoder[:,batch_idx,:], (out_encoder[:,batch_idx,:]).t()) , np.sqrt(self.lstm_size * self.directions))\n",
        "                a_tensor = self.softmax(s_tensor)  \n",
        "                del s_tensor\n",
        "                c_det = (a_tensor.unsqueeze(1) * out_encoder[:,batch_idx,:].unsqueeze(2)).sum(dim=2)\n",
        "                \n",
        "            else:\n",
        "                s_score = ((torch.mm(out_encoder[:,batch_idx,:], (out_encoder[:,batch_idx,:]).t())) / np.sqrt(self.lstm_size * self.directions))\n",
        "                a_score = self.softmax(s_score)\n",
        "                del s_score\n",
        "                a_tensor = torch.cat((a_tensor, a_score), 1)\n",
        "                c_det_batch = (a_tensor.unsqueeze(1) * out_encoder[:,batch_idx,:].unsqueeze(2)).sum(dim=2)\n",
        "                c_det = torch.cat((c_det, c_det_batch), 1)\n",
        "              \n",
        "        return c_det.view(-1, self.batch_size, self.lstm_size * self.directions)\n",
        "\n",
        "\n",
        "    def decode(self, z, c):\n",
        "       \n",
        "        #Replicate z to be passed with every c's\n",
        "        zrep = z.view(-1, self.batch_size, self.latent_size).repeat(self.seq_size, 1, 1)\n",
        "\n",
        "        #View c so dimension fits to zrep\n",
        "        c = c.view(-1, self.batch_size, self.attention_size )\n",
        "\n",
        "         # Concatenate z and c\n",
        "        zandc = torch.cat((zrep,c), 2)\n",
        "        \n",
        "        #Pass z and c to decoder lstm\n",
        "        output_decoder, state_decoder = self.decoder1(zandc)\n",
        "\n",
        "        #Returning the the reconstructed data\n",
        "        return self.reconstruction_mu(torch.tan(output_decoder.view(-1,self.lstm_size * self.batch_size * self.directions))), state_decoder\n",
        "        \n",
        "\n",
        "\n",
        "    def forward(self, x):  \n",
        "        #Encode-layer\n",
        "        mu, logvar, output_encoder = self.encode(x)\n",
        "\n",
        "        #\"Variational layer\"\n",
        "        z = self.reparameterize(mu, logvar)\n",
        "\n",
        "        #Attention-layer\n",
        "        c_det = self.attention(output_encoder)\n",
        " \n",
        "        #Attention to decoder.     Pass each c_det one at a time.\n",
        "        for t in range(flags.seq_size):\n",
        "            if (t==0):\n",
        "              c_0= c_det[t,:,:]\n",
        "              c_t_mu=self.encoder_att_mu(c_0.view(-1,self.batch_size * self.lstm_size * self.directions))\n",
        "              c_t_logvar=self.SoftP(self.encoder_att_logvar(c_0.view(-1,self.batch_size * self.lstm_size * self.directions)))\n",
        "              c_final=self.reparameterize(c_t_mu, c_t_logvar)\n",
        "              del c_0\n",
        "              del c_t_mu\n",
        "              del c_t_logvar\n",
        "            else:\n",
        "              c_current= c_det[t,:,:]\n",
        "              c_t_mu=self.encoder_att_mu(c_current.view(-1,self.batch_size * self.lstm_size * self.directions))\n",
        "              c_t_logvar=self.SoftP(self.encoder_att_logvar(c_current.view(-1,self.batch_size * self.lstm_size * self.directions)))\n",
        "              c_final=torch.cat((c_final,self.reparameterize(c_t_mu, c_t_logvar)),0)\n",
        "\n",
        "        #Decode-layer\n",
        "        output, state_decoder = self.decode(z, c_final)\n",
        "\n",
        "\n",
        "        ###--------- Reconstruction-------###\n",
        "        \n",
        "        #recon_mu, recon_b =self.reconstrunction(output)\n",
        "\n",
        "        #for loop:\n",
        "          #output.append(self.reparametrize(recon_mu,recon_b))\n",
        "        #output=mean(output)\n",
        "\n",
        "        #####################################\n",
        "       \n",
        "        return output.view(-1,self.batch_size,self.input_size), mu, logvar, output_encoder, state_decoder, c_det,z\n",
        "    \n",
        "    \n",
        "   "
      ],
      "execution_count": 0,
      "outputs": []
    },
    {
      "cell_type": "markdown",
      "metadata": {
        "id": "tlGgqa9x2BcZ",
        "colab_type": "text"
      },
      "source": [
        "## Init model"
      ]
    },
    {
      "cell_type": "code",
      "metadata": {
        "id": "ZQqToc3M1_WE",
        "colab_type": "code",
        "colab": {}
      },
      "source": [
        "torch.backends.cudnn.enabled = False\n",
        "model = VAE().to(device)"
      ],
      "execution_count": 0,
      "outputs": []
    },
    {
      "cell_type": "markdown",
      "metadata": {
        "id": "_Rc_2VL715Ts",
        "colab_type": "text"
      },
      "source": [
        "## Optimizer"
      ]
    },
    {
      "cell_type": "code",
      "metadata": {
        "id": "F5M4KAdBVNwd",
        "colab_type": "code",
        "colab": {}
      },
      "source": [
        "if (flags.optimizer_choice=='AdamW'):\n",
        "  optimizer = optim.AdamW(model.parameters(), lr = flags.learning_rate)\n",
        "elif(flags.optimizer_choice=='SGD'):\n",
        "  optimizer = optim.SGD(model.parameters(), lr = flags.learning_rate)\n",
        "else: #\n",
        "  optimizer = optim.Adam(model.parameters(), lr = flags.learning_rate)"
      ],
      "execution_count": 0,
      "outputs": []
    },
    {
      "cell_type": "markdown",
      "metadata": {
        "id": "aPn_9zCR2FLB",
        "colab_type": "text"
      },
      "source": [
        "## Test model "
      ]
    },
    {
      "cell_type": "code",
      "metadata": {
        "id": "lycr0ochAzrE",
        "colab_type": "code",
        "outputId": "1b1c0817-7311-4f6e-9018-de91c7e60aab",
        "colab": {
          "base_uri": "https://localhost:8080/",
          "height": 265
        }
      },
      "source": [
        "output, _, _, _, _, _,_ = model(X_train[:,0:flags.batch_size,:])\n",
        "# Compare true data with reconstructed data (0 is acceleration)\n",
        "plt.subplot(2,1,1)\n",
        "plt.plot((X_train[:,0,:][:,0]).cpu().detach().numpy())\n",
        "plt.subplot(2,1,2)\n",
        "plt.plot((output[:,0,:][:,0]).cpu().detach().numpy())\n",
        "plt.show()"
      ],
      "execution_count": 0,
      "outputs": [
        {
          "output_type": "display_data",
          "data": {
            "image/png": "[encoded data removed]",
            "text/plain": [
              "<Figure size 432x288 with 2 Axes>"
            ]
          },
          "metadata": {
            "tags": [],
            "needs_background": "light"
          }
        }
      ]
    },
    {
      "cell_type": "markdown",
      "metadata": {
        "id": "dIvnF8yh2KXR",
        "colab_type": "text"
      },
      "source": [
        "# Functions\n",
        "\n",
        "\n"
      ]
    },
    {
      "cell_type": "markdown",
      "metadata": {
        "id": "wVppq60i2SsI",
        "colab_type": "text"
      },
      "source": [
        "## Loss"
      ]
    },
    {
      "cell_type": "code",
      "metadata": {
        "id": "MlMivj9AVPse",
        "colab_type": "code",
        "colab": {}
      },
      "source": [
        "#https://github.com/GauravBh1010tt/DL-Seq2Seq/blob/master/variational%20autoencoders%20(VAE%2C%20CVAE)/vae.py\n",
        "# Reconstruction + KL divergence losses summed over all elements and batch\n",
        "def loss_function(recon_x, x, mu, logvar,lamb):\n",
        "    #BCE = F.binary_cross_entropy(recon_x, x.view(-1, flags.seq_size), reduction='sum')\n",
        "    CE = F.mse_loss(recon_x, x, reduction='sum')\n",
        "    #CE = F.cross_entropy(recon_x, x)\n",
        "    \n",
        "\n",
        "    # J. Pereira, \"Thesis - Unsupervised Anomaly Detection in Time Series Data using Deep Learning\" page 90 (equation 12)\n",
        "    # lambda_KL*-0.5 * sum(1 + log(sigma^2) - mu^2 - sigma^2)\n",
        "    KLD = lamb*(-0.5) * torch.sum(1 + logvar - mu.pow(2) - logvar.exp())\n",
        "    \n",
        "    return CE + KLD"
      ],
      "execution_count": 0,
      "outputs": []
    },
    {
      "cell_type": "markdown",
      "metadata": {
        "id": "cC7mwcR32MzL",
        "colab_type": "text"
      },
      "source": [
        "## Get batches"
      ]
    },
    {
      "cell_type": "code",
      "metadata": {
        "id": "7g_O8sZXc82R",
        "colab_type": "code",
        "colab": {}
      },
      "source": [
        "# Get batches\n",
        "def get_batches(iterable, n = flags.batch_size):\n",
        "    l = iterable.shape[1]   # Number of total samples (48)\n",
        "    for ndx in range(0, l, n):\n",
        "        yield iterable[:,ndx:min(ndx + n, l),:]"
      ],
      "execution_count": 0,
      "outputs": []
    },
    {
      "cell_type": "markdown",
      "metadata": {
        "id": "CDmRSfGG2Wsj",
        "colab_type": "text"
      },
      "source": [
        "## Train model"
      ]
    },
    {
      "cell_type": "code",
      "metadata": {
        "id": "csf-oWKIVS0_",
        "colab_type": "code",
        "colab": {}
      },
      "source": [
        "def train(epoch,lambda_kl):\n",
        "    model.train()\n",
        "    train_loss = 0\n",
        "  \n",
        "    batches = get_batches(X_train)\n",
        "    for trainbatch in batches:\n",
        "        trainbatch = trainbatch.to(device)\n",
        "        optimizer.zero_grad()\n",
        "        recon_batch, mu, logvar, _, _, _,_ = model(trainbatch)\n",
        "        loss = loss_function(recon_batch, trainbatch, mu, logvar,lambda_kl)\n",
        "        loss.backward()\n",
        "        train_loss += loss.item()\n",
        "        optimizer.step()\n",
        "\n",
        "    if (epoch % flags.print_every == 0):\n",
        "      print('Train loss: {:.4f}'.format(train_loss / X_train.shape[1]))\n",
        "    \n",
        "    return train_loss / X_train.shape[1]\n"
      ],
      "execution_count": 0,
      "outputs": []
    },
    {
      "cell_type": "markdown",
      "metadata": {
        "id": "67rsL6KJ2ZTI",
        "colab_type": "text"
      },
      "source": [
        "## Test model"
      ]
    },
    {
      "cell_type": "code",
      "metadata": {
        "id": "osFPo39GVVY9",
        "colab_type": "code",
        "colab": {}
      },
      "source": [
        "def test(epoch,lambda_kl):\n",
        "    model.eval()\n",
        "    test_loss = 0\n",
        "    with torch.no_grad():\n",
        "        batches = get_batches(X_test)\n",
        "        for testbatch in batches:\n",
        "        \n",
        "          testbatch = testbatch.to(device)\n",
        "          recon_batch, mu, logvar, _, _, _,_ = model(testbatch)\n",
        "          loss = loss_function(recon_batch, testbatch, mu, logvar,lambda_kl)\n",
        "          test_loss += loss.item()\n",
        "          \n",
        "\n",
        "\n",
        "            #if i == 0:\n",
        "             #   n = min(data.size(0), 8)\n",
        "              #  comparison = torch.cat([data[:n],\n",
        "               #                       recon_batch.view(args.batch_size, 1, 28, 28)[:n]])\n",
        "               # save_image(comparison.cpu(),\n",
        "               #          'results/reconstruction_' + str(epoch) + '.png', nrow=n)\n",
        "\n",
        "    test_loss /= X_test.shape[1]\n",
        "    if (epoch % flags.print_every == 0):\n",
        "      print('Test loss: {:.4f}'.format(test_loss))\n",
        "    return test_loss"
      ],
      "execution_count": 0,
      "outputs": []
    },
    {
      "cell_type": "markdown",
      "metadata": {
        "id": "yRS4c2hn2b1_",
        "colab_type": "text"
      },
      "source": [
        "# Main"
      ]
    },
    {
      "cell_type": "code",
      "metadata": {
        "id": "IEfeUcaWVXd7",
        "colab_type": "code",
        "outputId": "da6a8c69-5d9d-4732-bf87-31058ff32e47",
        "colab": {
          "base_uri": "https://localhost:8080/",
          "height": 636
        }
      },
      "source": [
        "if __name__ == \"__main__\":\n",
        "    tic_total= datetime.now()\n",
        "    epochnumber = []\n",
        "    all_train_losses = []\n",
        "    all_test_losses = []\n",
        "    lambda_update=flags.lambda_kl\n",
        "\n",
        "    for epoch in range(1, flags.epochs + 1):\n",
        "        tic = datetime.now()\n",
        "        epochnumber.append(epoch)\n",
        "        print(\"Epoch {} / {}\".format(epoch,flags.epochs))\n",
        "        \n",
        "        all_train_losses.append(train(epoch,lambda_update))\n",
        "        all_test_losses.append(test(epoch,lambda_update))\n",
        "        #with torch.no_grad():\n",
        "        #    sample = torch.randn(64, 20).to(device)\n",
        "        #    sample = model.decode(sample).cpu()\n",
        "        #    save_image(sample.view(64, 1, 28, 28),\n",
        "         #              'results/sample_' + str(epoch) + '.png')\n",
        "        \n",
        "        print(\"Epoch {} running time {}:\".format(epoch,datetime.now() - tic))\n",
        "        \n",
        "         #update lambda\n",
        "        if (lambda_update<flags.lambda_max):\n",
        "           lambda_update+=flags.lambda_update_rate\n",
        "    print(\"Total running time {}\".format(datetime.now() - tic_total))\n",
        "    \n",
        "    plt.figure(1)                             \n",
        "    plt.xlabel('Epochs'), plt.ylabel('Loss')   \n",
        "    plt.plot(epochnumber, all_train_losses, 'r', epochnumber, all_test_losses, 'g')\n",
        "    plt.legend(['Train Loss', 'Test Loss'])\n",
        "     "
      ],
      "execution_count": 0,
      "outputs": [
        {
          "output_type": "stream",
          "text": [
            "Epoch 1 / 5\n",
            "Train loss: 228.2047\n",
            "Test loss: 110.3081\n",
            "Epoch 1 running time 0:00:12.807685:\n",
            "Epoch 2 / 5\n",
            "Train loss: 139.0887\n",
            "Test loss: 62.6750\n",
            "Epoch 2 running time 0:00:12.659688:\n",
            "Epoch 3 / 5\n",
            "Train loss: 38.9096\n",
            "Test loss: 31.3763\n",
            "Epoch 3 running time 0:00:12.609957:\n",
            "Epoch 4 / 5\n",
            "Train loss: 29.4113\n",
            "Test loss: 23.8985\n",
            "Epoch 4 running time 0:00:12.559398:\n",
            "Epoch 5 / 5\n",
            "Train loss: 13.6325\n",
            "Test loss: 19.9509\n",
            "Epoch 5 running time 0:00:12.389786:\n",
            "Total running time 0:01:03.026879\n"
          ],
          "name": "stdout"
        },
        {
          "output_type": "display_data",
          "data": {
            "image/png": "[encoded data removed]",
            "text/plain": [
              "<Figure size 432x288 with 1 Axes>"
            ]
          },
          "metadata": {
            "tags": [],
            "needs_background": "light"
          }
        }
      ]
    },
    {
      "cell_type": "markdown",
      "metadata": {
        "id": "mUjI0SQq2ej5",
        "colab_type": "text"
      },
      "source": [
        "## Testing output"
      ]
    },
    {
      "cell_type": "code",
      "metadata": {
        "id": "SXvr5tqjr8-O",
        "colab_type": "code",
        "outputId": "5483b0cd-30ec-46a7-a772-9cfe264cbb7d",
        "colab": {
          "base_uri": "https://localhost:8080/",
          "height": 351
        }
      },
      "source": [
        "model.eval()\n",
        "output_good, mu_good, logvar_good, lambda_kl_good, _, c_det_to_pca,z_good = model(X_train[:,0:flags.batch_size,:])\n",
        "# Compare true data with reconstructed data (0 is acceleration)\n",
        "\n",
        "plt.figure(figsize=(16,5))\n",
        "plt.plot((X_train[:,0,:][:,0]).cpu().detach().numpy())\n",
        "plt.plot((output_good[:,0,:][:,0]).cpu().detach().numpy())\n",
        "plt.legend([\"Train series\", \"Reconstructed train series\"])\n",
        "plt.ylabel(\"Acceleration value\")\n",
        "plt.xlabel(\"Timestep\")"
      ],
      "execution_count": 0,
      "outputs": [
        {
          "output_type": "execute_result",
          "data": {
            "text/plain": [
              "Text(0.5, 0, 'Timestep')"
            ]
          },
          "metadata": {
            "tags": []
          },
          "execution_count": 66
        },
        {
          "output_type": "display_data",
          "data": {
            "image/png": "[encoded data removed]",
            "text/plain": [
              "<Figure size 1152x360 with 1 Axes>"
            ]
          },
          "metadata": {
            "tags": [],
            "needs_background": "light"
          }
        }
      ]
    },
    {
      "cell_type": "code",
      "metadata": {
        "id": "iuGDMmAFmbCU",
        "colab_type": "code",
        "colab": {}
      },
      "source": [
        "loss = loss_function(output[:,0:flags.batch_size,:], X_train[:,0:flags.batch_size,:], mu_good, logvar_good,lambda_kl_good)"
      ],
      "execution_count": 0,
      "outputs": []
    },
    {
      "cell_type": "code",
      "metadata": {
        "id": "AlIHNucrmhtb",
        "colab_type": "code",
        "outputId": "9c4f4279-22fc-4e5c-c3af-80833490f64e",
        "colab": {
          "base_uri": "https://localhost:8080/",
          "height": 34
        }
      },
      "source": [
        "loss.mean()"
      ],
      "execution_count": 0,
      "outputs": [
        {
          "output_type": "execute_result",
          "data": {
            "text/plain": [
              "tensor(2048.3965, device='cuda:0', grad_fn=<MeanBackward0>)"
            ]
          },
          "metadata": {
            "tags": []
          },
          "execution_count": 62
        }
      ]
    },
    {
      "cell_type": "markdown",
      "metadata": {
        "id": "KT0ft7IRnT3q",
        "colab_type": "text"
      },
      "source": [
        "### Choose specific defect type and test (only when model has trained on all defect types)"
      ]
    },
    {
      "cell_type": "code",
      "metadata": {
        "id": "0-H2RO1Yneav",
        "colab_type": "code",
        "colab": {}
      },
      "source": [
        "#choose='crack'\n",
        "#choose='patch'\n",
        "choose='pothole'"
      ],
      "execution_count": 0,
      "outputs": []
    },
    {
      "cell_type": "code",
      "metadata": {
        "id": "CRVkY6ndukKI",
        "colab_type": "code",
        "outputId": "afedc991-ecec-4bef-ce3c-465aa34f9c93",
        "colab": {
          "base_uri": "https://localhost:8080/",
          "height": 68
        }
      },
      "source": [
        "  # Load data\n",
        "    #https://lab.compute.dtu.dk/02460F20-tsad/shared\n",
        "\n",
        "import glob\n",
        "from scipy.io import loadmat\n",
        "\n",
        "from google.colab import drive\n",
        "\n",
        "drive.mount('/content/drive')\n",
        "\n",
        "# Load files for given cases only\n",
        "input_dir = 'drive/My Drive/Advanced Machine Learning/data/Lira/Synt_data_20052019/'\n",
        "min_index = 7000\n",
        "max_index = 18000\n",
        "file_pattern = '{0}*.mat'.format(input_dir)\n",
        "\n",
        "# Load data from mat files into python dictionary\n",
        "data = {}\n",
        "print('Loading files...')\n",
        "for filename in glob.glob(file_pattern):\n",
        "    #print('Loading file: {0}'.format(filename))\n",
        "    defect_type = filename.split('_')[-2]\n",
        "\n",
        "    # Get variables\n",
        "    f = loadmat(filename)\n",
        "    acc = f['acceleration'][min_index:max_index,:].reshape(1,-1)\n",
        "    time = f['time'][min_index:max_index,:].reshape(1,-1)\n",
        "    label = f['type'][min_index:max_index,:].reshape(1,-1)\n",
        "    severity = f['severity'][min_index:max_index,:].reshape(1,-1)\n",
        "\n",
        "    # Update dictionary with the data from this file\n",
        "    data[filename] = {'time':time, 'acc':acc, 'true_labels':label, 'severity':severity, 'defect':defect_type}\n",
        "\n",
        "list_of_filenames = list(data.keys())\n",
        "print('Loading done!')"
      ],
      "execution_count": 0,
      "outputs": [
        {
          "output_type": "stream",
          "text": [
            "Drive already mounted at /content/drive; to attempt to forcibly remount, call drive.mount(\"/content/drive\", force_remount=True).\n",
            "Loading files...\n",
            "Loading done!\n"
          ],
          "name": "stdout"
        }
      ]
    },
    {
      "cell_type": "code",
      "metadata": {
        "id": "lcNC-GJqnUAL",
        "colab_type": "code",
        "outputId": "34f60c66-b208-4f01-c298-00c8f0dab28b",
        "colab": {
          "base_uri": "https://localhost:8080/",
          "height": 446
        }
      },
      "source": [
        "\n",
        "data_specific_defect_list = []\n",
        "# Get all crack data\n",
        "\n",
        "\n",
        "for k in range(len(list_of_filenames)):\n",
        "  if (data[list_of_filenames[k]]['defect'] == choose):\n",
        "    \n",
        "    col1 = normalize(data[list_of_filenames[k]]['acc'][0])\n",
        "    col2 = normalize(data[list_of_filenames[k]]['severity'][0])\n",
        "    col3 = data[list_of_filenames[k]]['time'][0] \n",
        "    col4 = data[list_of_filenames[k]]['true_labels'][0]\n",
        "\n",
        "    for l in range(flags.number_of_noisy_obs): # Add noisy observations\n",
        "      noisy_col1 = col1 + np.random.normal(0,np.std(col1) / 5 ,len(col1))\n",
        "      noisy_col2 = col2 + np.random.normal(0,np.std(col2) / 5 ,len(col2))\n",
        "      #data_specific_defect_list.append(([noisy_col1, noisy_col2, col3, col4]))\n",
        "      data_specific_defect_list.append(([normalize(noisy_col1), normalize(noisy_col2), col3, col4]))\n",
        "\n",
        "    #data_specific_defect_list.append(([col1, col2, col3, col4])) # add original data\n",
        "    data_specific_defect_list.append(([normalize(col1), normalize(col2), col3, col4])) # add original data\n",
        "\n",
        "data_specific_defect_torch = torch.tensor(data_specific_defect_list)\n",
        "data_specific_defect_torch = data_specific_defect_torch.permute(2, 0, 1)\n",
        "data_specific_defect_torch = data_specific_defect_torch.float()\n",
        "data_specific_defect_torch=data_specific_defect_torch.to(device)"
      ],
      "execution_count": 0,
      "outputs": [
        {
          "output_type": "error",
          "ename": "ValueError",
          "evalue": "ignored",
          "traceback": [
            "\u001b[0;31m---------------------------------------------------------------------------\u001b[0m",
            "\u001b[0;31mValueError\u001b[0m                                Traceback (most recent call last)",
            "\u001b[0;32m<ipython-input-65-e8cfcded6da5>\u001b[0m in \u001b[0;36m<module>\u001b[0;34m()\u001b[0m\n\u001b[1;32m      7\u001b[0m   \u001b[0;32mif\u001b[0m \u001b[0;34m(\u001b[0m\u001b[0mdata\u001b[0m\u001b[0;34m[\u001b[0m\u001b[0mlist_of_filenames\u001b[0m\u001b[0;34m[\u001b[0m\u001b[0mk\u001b[0m\u001b[0;34m]\u001b[0m\u001b[0;34m]\u001b[0m\u001b[0;34m[\u001b[0m\u001b[0;34m'defect'\u001b[0m\u001b[0;34m]\u001b[0m \u001b[0;34m==\u001b[0m \u001b[0mchoose\u001b[0m\u001b[0;34m)\u001b[0m\u001b[0;34m:\u001b[0m\u001b[0;34m\u001b[0m\u001b[0;34m\u001b[0m\u001b[0m\n\u001b[1;32m      8\u001b[0m \u001b[0;34m\u001b[0m\u001b[0m\n\u001b[0;32m----> 9\u001b[0;31m     \u001b[0mcol1\u001b[0m \u001b[0;34m=\u001b[0m \u001b[0mnormalize\u001b[0m\u001b[0;34m(\u001b[0m\u001b[0mdata\u001b[0m\u001b[0;34m[\u001b[0m\u001b[0mlist_of_filenames\u001b[0m\u001b[0;34m[\u001b[0m\u001b[0mk\u001b[0m\u001b[0;34m]\u001b[0m\u001b[0;34m]\u001b[0m\u001b[0;34m[\u001b[0m\u001b[0;34m'acc'\u001b[0m\u001b[0;34m]\u001b[0m\u001b[0;34m[\u001b[0m\u001b[0;36m0\u001b[0m\u001b[0;34m]\u001b[0m\u001b[0;34m)\u001b[0m\u001b[0;34m\u001b[0m\u001b[0;34m\u001b[0m\u001b[0m\n\u001b[0m\u001b[1;32m     10\u001b[0m     \u001b[0mcol2\u001b[0m \u001b[0;34m=\u001b[0m \u001b[0mnormalize\u001b[0m\u001b[0;34m(\u001b[0m\u001b[0mdata\u001b[0m\u001b[0;34m[\u001b[0m\u001b[0mlist_of_filenames\u001b[0m\u001b[0;34m[\u001b[0m\u001b[0mk\u001b[0m\u001b[0;34m]\u001b[0m\u001b[0;34m]\u001b[0m\u001b[0;34m[\u001b[0m\u001b[0;34m'severity'\u001b[0m\u001b[0;34m]\u001b[0m\u001b[0;34m[\u001b[0m\u001b[0;36m0\u001b[0m\u001b[0;34m]\u001b[0m\u001b[0;34m)\u001b[0m\u001b[0;34m\u001b[0m\u001b[0;34m\u001b[0m\u001b[0m\n\u001b[1;32m     11\u001b[0m     \u001b[0mcol3\u001b[0m \u001b[0;34m=\u001b[0m \u001b[0mdata\u001b[0m\u001b[0;34m[\u001b[0m\u001b[0mlist_of_filenames\u001b[0m\u001b[0;34m[\u001b[0m\u001b[0mk\u001b[0m\u001b[0;34m]\u001b[0m\u001b[0;34m]\u001b[0m\u001b[0;34m[\u001b[0m\u001b[0;34m'time'\u001b[0m\u001b[0;34m]\u001b[0m\u001b[0;34m[\u001b[0m\u001b[0;36m0\u001b[0m\u001b[0;34m]\u001b[0m\u001b[0;34m\u001b[0m\u001b[0;34m\u001b[0m\u001b[0m\n",
            "\u001b[0;32m/usr/local/lib/python3.6/dist-packages/sklearn/preprocessing/_data.py\u001b[0m in \u001b[0;36mnormalize\u001b[0;34m(X, norm, axis, copy, return_norm)\u001b[0m\n\u001b[1;32m   1703\u001b[0m \u001b[0;34m\u001b[0m\u001b[0m\n\u001b[1;32m   1704\u001b[0m     X = check_array(X, sparse_format, copy=copy,\n\u001b[0;32m-> 1705\u001b[0;31m                     estimator='the normalize function', dtype=FLOAT_DTYPES)\n\u001b[0m\u001b[1;32m   1706\u001b[0m     \u001b[0;32mif\u001b[0m \u001b[0maxis\u001b[0m \u001b[0;34m==\u001b[0m \u001b[0;36m0\u001b[0m\u001b[0;34m:\u001b[0m\u001b[0;34m\u001b[0m\u001b[0;34m\u001b[0m\u001b[0m\n\u001b[1;32m   1707\u001b[0m         \u001b[0mX\u001b[0m \u001b[0;34m=\u001b[0m \u001b[0mX\u001b[0m\u001b[0;34m.\u001b[0m\u001b[0mT\u001b[0m\u001b[0;34m\u001b[0m\u001b[0;34m\u001b[0m\u001b[0m\n",
            "\u001b[0;32m/usr/local/lib/python3.6/dist-packages/sklearn/utils/validation.py\u001b[0m in \u001b[0;36mcheck_array\u001b[0;34m(array, accept_sparse, accept_large_sparse, dtype, order, copy, force_all_finite, ensure_2d, allow_nd, ensure_min_samples, ensure_min_features, warn_on_dtype, estimator)\u001b[0m\n\u001b[1;32m    554\u001b[0m                     \u001b[0;34m\"Reshape your data either using array.reshape(-1, 1) if \"\u001b[0m\u001b[0;34m\u001b[0m\u001b[0;34m\u001b[0m\u001b[0m\n\u001b[1;32m    555\u001b[0m                     \u001b[0;34m\"your data has a single feature or array.reshape(1, -1) \"\u001b[0m\u001b[0;34m\u001b[0m\u001b[0;34m\u001b[0m\u001b[0m\n\u001b[0;32m--> 556\u001b[0;31m                     \"if it contains a single sample.\".format(array))\n\u001b[0m\u001b[1;32m    557\u001b[0m \u001b[0;34m\u001b[0m\u001b[0m\n\u001b[1;32m    558\u001b[0m         \u001b[0;31m# in the future np.flexible dtypes will be handled like object dtypes\u001b[0m\u001b[0;34m\u001b[0m\u001b[0;34m\u001b[0m\u001b[0;34m\u001b[0m\u001b[0m\n",
            "\u001b[0;31mValueError\u001b[0m: Expected 2D array, got 1D array instead:\narray=[ 0.          0.          0.         ... -0.77400437 -0.77404499\n -0.77408443].\nReshape your data either using array.reshape(-1, 1) if your data has a single feature or array.reshape(1, -1) if it contains a single sample."
          ]
        }
      ]
    },
    {
      "cell_type": "code",
      "metadata": {
        "id": "gzzKatf5oOki",
        "colab_type": "code",
        "colab": {}
      },
      "source": [
        "\n",
        "#fraction=int(data_torch.shape[1]*0.8)\n",
        "#X_train=data_torch[:,:fraction,:]\n",
        "#X_test=data_torch[:,fraction+1:,:]\n",
        "\n",
        "#\n",
        "\n",
        "\n",
        "\n",
        "start_slice= 2000\n",
        "end_slice=7000\n",
        "nm_p=10 #take every nm_p point\n",
        "\n",
        "train_batch_idx=40\n",
        "test_batch_idx=60 #(when small data)\n",
        "\n",
        "X_train_specific=data_specific_defect_torch[start_slice:end_slice:nm_p,:train_batch_idx,:2] #only acceleration and severity\n",
        "X_test_specific=data_specific_defect_torch[start_slice:end_slice:nm_p,train_batch_idx:test_batch_idx,:2]\n",
        "\n",
        "\n",
        "\n",
        "print('The shape of X_train: {}'.format(X_train_specific.shape))\n",
        "print('The shape of X_test: {}'.format(X_test_specific.shape))\n"
      ],
      "execution_count": 0,
      "outputs": []
    },
    {
      "cell_type": "code",
      "metadata": {
        "id": "6EkYbDjQoGna",
        "colab_type": "code",
        "colab": {}
      },
      "source": [
        "model.eval()\n",
        "output_specific, _, _, _, _, c_det_to_pca,z_good = model(X_train_specific[:,0:flags.batch_size,:])\n",
        "# Compare true data with reconstructed data (0 is acceleration)\n",
        "\n",
        "plt.figure(figsize=(16,5))\n",
        "plt.plot((X_train_specific[:,0,:][:,0]).cpu().detach().numpy())\n",
        "plt.plot((output_specific[:,0,:][:,0]).cpu().detach().numpy())\n",
        "plt.legend([\"Train series \"+str(choose), \"Reconstructed train series \"+str(choose)])\n",
        "plt.ylabel(\"Acceleration value\")\n",
        "plt.xlabel(\"Timestep\")"
      ],
      "execution_count": 0,
      "outputs": []
    },
    {
      "cell_type": "markdown",
      "metadata": {
        "id": "hWaXidwk-bEr",
        "colab_type": "text"
      },
      "source": [
        "\n",
        "### Give a very bad input"
      ]
    },
    {
      "cell_type": "markdown",
      "metadata": {
        "id": "WRqLRLyxhp-z",
        "colab_type": "text"
      },
      "source": [
        "**Bad input 1**"
      ]
    },
    {
      "cell_type": "code",
      "metadata": {
        "id": "tYFmG249hj7B",
        "colab_type": "code",
        "colab": {}
      },
      "source": [
        "'''\n",
        "Bad input 1:\n",
        "X_bad=X_train[:,0:flags.batch_size,:].data.clone() + nn.functional.relu((X_train[:,flags.batch_size:flags.batch_size*2,:].data.clone()))*3\n",
        "'''"
      ],
      "execution_count": 0,
      "outputs": []
    },
    {
      "cell_type": "markdown",
      "metadata": {
        "id": "ZbVkOjR4hr7W",
        "colab_type": "text"
      },
      "source": [
        "**Bad input 2**"
      ]
    },
    {
      "cell_type": "code",
      "metadata": {
        "id": "_6hiSTZDhmeE",
        "colab_type": "code",
        "colab": {}
      },
      "source": [
        "'''\n",
        "#Weird input 2:\n",
        "X_bad=X_train[:,0:flags.batch_size,:].data.clone() * torch.randn(500,4,2).to(device)\n",
        "'''"
      ],
      "execution_count": 0,
      "outputs": []
    },
    {
      "cell_type": "markdown",
      "metadata": {
        "id": "iNLt4nWOhvnc",
        "colab_type": "text"
      },
      "source": [
        "**Bad input 3**"
      ]
    },
    {
      "cell_type": "code",
      "metadata": {
        "id": "NyR4kw5IhyGY",
        "colab_type": "code",
        "colab": {}
      },
      "source": [
        "'''\n",
        "# bad input 3:\n",
        "X_bad=X_train[:,0:flags.batch_size,:].data.clone()\n",
        "X_bad[200:400,0,0]=torch.FloatTensor(list(np.ones(200)*10))\n",
        "X_bad[200:400,1,0]=torch.FloatTensor(list(np.ones(200)*10))\n",
        "X_bad[200:400,2,0]=torch.FloatTensor(list(np.ones(200)*10))\n",
        "X_bad[200:400,3,0]=torch.FloatTensor(list(np.ones(200)*10))\n",
        "'''\n"
      ],
      "execution_count": 0,
      "outputs": []
    },
    {
      "cell_type": "markdown",
      "metadata": {
        "id": "iohzNbDjh5mc",
        "colab_type": "text"
      },
      "source": [
        "**Bad input 4**"
      ]
    },
    {
      "cell_type": "code",
      "metadata": {
        "id": "Rk0LqZH5h8Ek",
        "colab_type": "code",
        "colab": {}
      },
      "source": [
        "'''\n",
        "# Bad input 4:\n",
        "bad=[]\n",
        "x1=range(50,100)\n",
        "for i in range(len(x1)): \n",
        "  bad.append( np.cos(x1[i]/10)) #change here\n",
        "\n",
        "x2=range(100,150)\n",
        "for i in range(len(x2)):\n",
        "  bad.append(-10) #change here\n",
        "\n",
        "x3=range(150,200)\n",
        "for i in range(len(x3)): \n",
        "  bad.append( np.cos(x3[i]/10)) #change here\n",
        "\n",
        "X_bad=X_train[:,0:flags.batch_size,:].data.clone()\n",
        "X_bad[50:200,0,0]=torch.FloatTensor(bad)\n",
        "X_bad[50:200,1,0]=torch.FloatTensor(bad)\n",
        "X_bad[50:200,2,0]=torch.FloatTensor(bad)\n",
        "X_bad[50:200,3,0]=torch.FloatTensor(bad)\n"
      ],
      "execution_count": 0,
      "outputs": []
    },
    {
      "cell_type": "markdown",
      "metadata": {
        "id": "Em-OSSdbiIeX",
        "colab_type": "text"
      },
      "source": [
        "**Bad input 5**"
      ]
    },
    {
      "cell_type": "code",
      "metadata": {
        "id": "1Ru9ICb-iMpp",
        "colab_type": "code",
        "colab": {}
      },
      "source": [
        "'''\n",
        "#Weird input 5:\n",
        "X_bad=X_train[:,0:flags.batch_size,:].data.clone() \n",
        "X_bad[140:150,0,0]=torch.FloatTensor(list(np.ones(10)*5))\n",
        "X_bad[160:170,0,0]=torch.FloatTensor(list(np.ones(10)*5))\n",
        "\n"
      ],
      "execution_count": 0,
      "outputs": []
    },
    {
      "cell_type": "markdown",
      "metadata": {
        "id": "jaylI1l_iTei",
        "colab_type": "text"
      },
      "source": [
        "**Bad input 6**"
      ]
    },
    {
      "cell_type": "code",
      "metadata": {
        "id": "a2PtlDw3iX8p",
        "colab_type": "code",
        "colab": {}
      },
      "source": [
        "'''\n",
        "#weird 6\n",
        "X_bad=X_train[:,0:flags.batch_size,:].data.clone()\n",
        "bad=[]\n",
        "x1=range(0,80)\n",
        "for i in range(len(x1)): \n",
        "  bad.append( np.cos(x1[i])) #change here\n",
        "X_bad[120:200,0,0]=torch.FloatTensor(bad)\n"
      ],
      "execution_count": 0,
      "outputs": []
    },
    {
      "cell_type": "markdown",
      "metadata": {
        "id": "DPY8qUpjifSl",
        "colab_type": "text"
      },
      "source": [
        "**Bad input 7**"
      ]
    },
    {
      "cell_type": "code",
      "metadata": {
        "id": "OeruVxlGj2Cq",
        "colab_type": "code",
        "colab": {}
      },
      "source": [
        "\n",
        "#Bad 7\n",
        "X_bad=X_train[:,0:flags.batch_size,:].data.clone()\n",
        "bad=[]\n",
        "x1=range(0,80)\n",
        "for i in range(len(x1)): \n",
        "  bad.append( 5*np.cos(x1[i]/5)) #change here\n",
        "X_bad[120:200,0,0]=torch.FloatTensor(bad)\n"
      ],
      "execution_count": 0,
      "outputs": []
    },
    {
      "cell_type": "markdown",
      "metadata": {
        "id": "efIrxQrEkBkq",
        "colab_type": "text"
      },
      "source": [
        "**Bad input 8**"
      ]
    },
    {
      "cell_type": "code",
      "metadata": {
        "id": "bE3uyQbmkQnQ",
        "colab_type": "code",
        "colab": {}
      },
      "source": [
        "\n",
        "#weird 8\n",
        "X_bad=X_train[:,0:flags.batch_size,:].data.clone()\n",
        "X_bad[200:300,0,0]=X_bad[200:300,0,0]*(-1)\n"
      ],
      "execution_count": 0,
      "outputs": []
    },
    {
      "cell_type": "code",
      "metadata": {
        "id": "v_jhaRWinRRF",
        "colab_type": "code",
        "colab": {}
      },
      "source": [
        ""
      ],
      "execution_count": 0,
      "outputs": []
    },
    {
      "cell_type": "markdown",
      "metadata": {
        "id": "sFxAUEyrj0Tn",
        "colab_type": "text"
      },
      "source": [
        ""
      ]
    },
    {
      "cell_type": "code",
      "metadata": {
        "id": "uws6qbs5-dRT",
        "colab_type": "code",
        "colab": {}
      },
      "source": [
        "model.eval()\n",
        "output_bad, mu_bad, logvar_bad, lambda_kl_bad, _, c_det_bad,z_bad = model(X_bad[:,0:flags.batch_size,:])"
      ],
      "execution_count": 0,
      "outputs": []
    },
    {
      "cell_type": "code",
      "metadata": {
        "id": "mL-76mGfV6RI",
        "colab_type": "code",
        "outputId": "e09d0fff-c28b-444e-ffc5-346e419bff69",
        "colab": {
          "base_uri": "https://localhost:8080/",
          "height": 334
        }
      },
      "source": [
        "plt.figure(figsize=(16,5))\n",
        "plt.plot((X_bad[:,0,:][:,0]).cpu().detach().numpy())\n",
        "plt.plot((output_bad[:,0,:][:,0]).cpu().detach().numpy())\n",
        "plt.legend([\"Anomalous series\", \"Reconstructed anomalous series\"])\n",
        "plt.ylabel(\"Acceleration value\")\n",
        "plt.xlabel(\"Timestep\")\n",
        "\n",
        "#plt.fill_between(range(0,500), (X_weird[:,0,:][:,0]).cpu().detach().numpy(), (output[:,0,:][:,0]).cpu().detach().numpy(), (X_weird[:,0,:][:,0]).cpu().detach().numpy() < (output[:,0,:][:,0]).cpu().detach().numpy(),\n",
        "#                 color='grey', alpha=0.3)\n",
        "#plt.fill_between(range(0,500), (X_weird[:,0,:][:,0]).cpu().detach().numpy(), (output[:,0,:][:,0]).cpu().detach().numpy(), (X_weird[:,0,:][:,0]).cpu().detach().numpy() > (output[:,0,:][:,0]).cpu().detach().numpy(),\n",
        "#                 color='grey', alpha=0.3)\n",
        "\n",
        "plt.show()\n"
      ],
      "execution_count": 0,
      "outputs": [
        {
          "output_type": "display_data",
          "data": {
            "image/png": "[encoded data removed]",
            "text/plain": [
              "<Figure size 1152x360 with 1 Axes>"
            ]
          },
          "metadata": {
            "tags": [],
            "needs_background": "light"
          }
        }
      ]
    },
    {
      "cell_type": "code",
      "metadata": {
        "id": "IiAoZqN0_YHj",
        "colab_type": "code",
        "colab": {}
      },
      "source": [
        "loss = loss_function(output[:,0:flags.batch_size,:], X_bad[:,0:flags.batch_size,:], mu_bad, logvar_bad,lambda_kl_bad)"
      ],
      "execution_count": 0,
      "outputs": []
    },
    {
      "cell_type": "code",
      "metadata": {
        "id": "IjoLhPwxlwvn",
        "colab_type": "code",
        "colab": {}
      },
      "source": [
        "loss.mean()"
      ],
      "execution_count": 0,
      "outputs": []
    },
    {
      "cell_type": "markdown",
      "metadata": {
        "id": "AtieHl1N3wC8",
        "colab_type": "text"
      },
      "source": [
        "# PCA"
      ]
    },
    {
      "cell_type": "markdown",
      "metadata": {
        "id": "f2HJZgBM9rgH",
        "colab_type": "text"
      },
      "source": [
        "https://jakevdp.github.io/PythonDataScienceHandbook/05.09-principal-component-analysis.html"
      ]
    },
    {
      "cell_type": "markdown",
      "metadata": {
        "id": "4ul1Mzms3xen",
        "colab_type": "text"
      },
      "source": [
        "##Good data"
      ]
    },
    {
      "cell_type": "code",
      "metadata": {
        "id": "5NUlkuBI6NfH",
        "colab_type": "code",
        "colab": {}
      },
      "source": [
        "\n",
        "from sklearn.decomposition import PCA"
      ],
      "execution_count": 0,
      "outputs": []
    },
    {
      "cell_type": "code",
      "metadata": {
        "id": "SgSdgvE55zjF",
        "colab_type": "code",
        "colab": {}
      },
      "source": [
        "X=c_det_to_pca.cpu().detach().numpy()\n",
        "nsamples, nx, ny = X.shape\n",
        "d2_train_dataset = X.reshape((nsamples,nx*ny))\n"
      ],
      "execution_count": 0,
      "outputs": []
    },
    {
      "cell_type": "code",
      "metadata": {
        "id": "5dO88ull3x5X",
        "colab_type": "code",
        "colab": {}
      },
      "source": [
        "\n",
        "X=d2_train_dataset\n",
        "\n",
        "pca = PCA(2)  # project from 64 to 2 dimensions\n",
        "projected = pca.fit_transform(X)\n",
        "\n",
        "plt.scatter(projected[:, 0], projected[:, 1],\n",
        "             edgecolor='none', alpha=0.5)#,\n",
        "            #cmap=plt.cm.get_cmap('spectral', 10))\n",
        "plt.xlabel('component 1')\n",
        "plt.ylabel('component 2')\n",
        "plt.colorbar();"
      ],
      "execution_count": 0,
      "outputs": []
    },
    {
      "cell_type": "code",
      "metadata": {
        "id": "R8IOtvOT6Q4N",
        "colab_type": "code",
        "colab": {}
      },
      "source": [
        ""
      ],
      "execution_count": 0,
      "outputs": []
    },
    {
      "cell_type": "markdown",
      "metadata": {
        "id": "rt6mcViI6RH-",
        "colab_type": "text"
      },
      "source": [
        "## Bad data\n"
      ]
    },
    {
      "cell_type": "code",
      "metadata": {
        "id": "aHUtnvz0rYuV",
        "colab_type": "code",
        "colab": {}
      },
      "source": [
        "#c_det_bad.shape"
      ],
      "execution_count": 0,
      "outputs": []
    },
    {
      "cell_type": "code",
      "metadata": {
        "id": "go9FQu3X5c1I",
        "colab_type": "code",
        "colab": {}
      },
      "source": [
        "X3=c_det_bad.cpu().detach().numpy()\n",
        "nsamples, nx, ny = X3.shape\n",
        "d2_train_dataset = X3.reshape((nsamples,nx*ny))\n"
      ],
      "execution_count": 0,
      "outputs": []
    },
    {
      "cell_type": "code",
      "metadata": {
        "id": "1wAjGgoJ6beX",
        "colab_type": "code",
        "colab": {}
      },
      "source": [
        "\n",
        "X3=d2_train_dataset\n",
        "\n",
        "pca = PCA(2)  # project from 64 to 2 dimensions\n",
        "projected = pca.fit_transform(X3)\n",
        "\n",
        "plt.scatter(projected[:, 0], projected[:, 1],\n",
        "             edgecolor='none', alpha=0.5),\n",
        "            #cmap=plt.cm.get_cmap('Accent', 2))\n",
        "plt.xlabel('component 1')\n",
        "plt.ylabel('component 2')\n",
        "plt.colorbar();"
      ],
      "execution_count": 0,
      "outputs": []
    },
    {
      "cell_type": "code",
      "metadata": {
        "id": "_8FJb4Cp6fk1",
        "colab_type": "code",
        "colab": {}
      },
      "source": [
        ""
      ],
      "execution_count": 0,
      "outputs": []
    },
    {
      "cell_type": "code",
      "metadata": {
        "id": "2ZHA-gJFusZ_",
        "colab_type": "code",
        "colab": {}
      },
      "source": [
        ""
      ],
      "execution_count": 0,
      "outputs": []
    },
    {
      "cell_type": "markdown",
      "metadata": {
        "id": "cs_rGKgwusrn",
        "colab_type": "text"
      },
      "source": [
        "# PCA (More)"
      ]
    },
    {
      "cell_type": "code",
      "metadata": {
        "id": "dHEc-Sr8u9Lz",
        "colab_type": "code",
        "colab": {}
      },
      "source": [
        "import matplotlib"
      ],
      "execution_count": 0,
      "outputs": []
    },
    {
      "cell_type": "code",
      "metadata": {
        "id": "9EnM5fQPu2N4",
        "colab_type": "code",
        "colab": {}
      },
      "source": [
        "# Initialize a tensor to contain z's with first batch\n",
        "output, mu, _, _, _, c_final, z_vec = model(X_train[:,0:flags.batch_size,:])\n",
        "all_zs = z_vec.view(-1,flags.batch_size)\n",
        "all_mus = mu.view(-1,flags.batch_size)\n",
        "all_cfinal = c_final\n",
        "\n",
        "# Iterate over remaining training data batches and grab z-values\n",
        "nrofbatches = X_train.shape[1] \n",
        "for batchnr in range(flags.batch_size, nrofbatches, flags.batch_size):\n",
        "  output, mu, _, _, _, c_final, z_vec = model(X_train[:,batchnr:batchnr+flags.batch_size,:])\n",
        "  all_zs = torch.cat((z_vec.view(-1,flags.batch_size), all_zs), 1)\n",
        "  all_mus = torch.cat((mu.view(-1,flags.batch_size), all_mus), 1)\n",
        "  all_cfinal = torch.cat((all_cfinal, c_final), 1)\n",
        "\n",
        "classes = list(np.unique(list_of_labels[0:X_train.shape[1]]))\n",
        "\n",
        "mydict={}\n",
        "i = 0\n",
        "for item in classes:\n",
        "    if(i>0 and item in mydict):\n",
        "        continue\n",
        "    else:    \n",
        "      i = i+1\n",
        "      mydict[item] = i\n",
        "intclasses=[]\n",
        "for item in list_of_labels:\n",
        "    intclasses.append(mydict[item])\n",
        "\n",
        "\n",
        "if flags.latent_size == 2:\n",
        "  xz = all_zs[0,:].cpu().detach().numpy()\n",
        "  yz = all_zs[1,:].cpu().detach().numpy()\n",
        "  colors = ['red','green','blue'] # Add color if more classes come\n",
        "  fig = plt.figure(figsize=(8,8))\n",
        "  scatter = plt.scatter(xz, yz, c=intclasses[0:X_train.shape[1]], cmap=matplotlib.colors.ListedColormap(colors))\n",
        "  plt.legend(handles=scatter.legend_elements()[0], labels=classes)\n",
        "  plt.title(\"Scatter plot of latent space representation of defects\")\n",
        "  plt.xlabel(\"Latent space (z) value\")\n",
        "  plt.show()\n",
        "\n",
        "  xmu = all_mus[0,:].cpu().detach().numpy()\n",
        "  ymu = all_mus[1,:].cpu().detach().numpy()\n",
        "  colors = ['red','green','blue'] # Add color if more classes come\n",
        "  fig = plt.figure(figsize=(8,8))\n",
        "  scatter = plt.scatter(xmu, ymu, c=intclasses[0:X_train.shape[1]], cmap=matplotlib.colors.ListedColormap(colors))\n",
        "  plt.legend(handles=scatter.legend_elements()[0], labels=classes)\n",
        "  plt.title(\"Scatter plot of latent space mu's representation of defects\")\n",
        "  plt.xlabel(\"Latent space mu value\")\n",
        "  plt.show()\n",
        "\n",
        "if flags.latent_size == 1:\n",
        "  xz = all_zs[0,:].cpu().detach().numpy()\n",
        "  yz = torch.rand(len(xz))\n",
        "  colors = ['red','green','blue'] # Add color if more classes come\n",
        "  fig = plt.figure(figsize=(8,8))\n",
        "  scatter = plt.scatter(xz, yz, c=intclasses[0:X_train.shape[1]], cmap=matplotlib.colors.ListedColormap(colors))\n",
        "  plt.legend(handles=scatter.legend_elements()[0], labels=classes)\n",
        "  plt.title(\"Jitter plot of latent space representation of defects\")\n",
        "  plt.xlabel(\"Latent space (z) value\")\n",
        "  plt.ylim(-4,4)\n",
        "  plt.show()\n",
        "\n",
        "  xmu = all_mus[0,:].cpu().detach().numpy()\n",
        "  ymu = torch.rand(len(xmu))\n",
        "  colors = ['red','green','blue'] # Add color if more classes come\n",
        "  fig = plt.figure(figsize=(8,8))\n",
        "  scatter = plt.scatter(xmu, ymu, c=intclasses[0:X_train.shape[1]], cmap=matplotlib.colors.ListedColormap(colors))\n",
        "  plt.legend(handles=scatter.legend_elements()[0], labels=classes)\n",
        "  plt.title(\"Jitter plot of latent space representation of defects\")\n",
        "  plt.xlabel(\"Latent space (z) value\")\n",
        "  plt.ylim(-4,4)\n",
        "  plt.show()\n",
        "\n",
        "\n",
        "\n",
        "if flags.latent_size > 2:\n",
        "  from sklearn.decomposition import PCA\n",
        "  Xz = all_zs.cpu().detach().numpy()\n",
        "  Xzt = Xz.T \n",
        "  pcaz = PCA(2)  # project from latent_size to 2 dimensions\n",
        "  projectedz = pcaz.fit_transform(Xzt)\n",
        "  xz = projectedz[:, 0]\n",
        "  yz = projectedz[:, 1]\n",
        "  colors = ['red','green','blue']\n",
        "  fig = plt.figure(figsize=(8,8))\n",
        "  scatter = plt.scatter(xz, yz, c=intclasses[0:X_train.shape[1]], cmap=matplotlib.colors.ListedColormap(colors))\n",
        "  plt.legend(handles=scatter.legend_elements()[0], labels=classes)\n",
        "  plt.title(\"PCA plot of latent space representation of defects\")\n",
        "  plt.xlabel('Component 1')\n",
        "  plt.ylabel('Component 2')\n",
        "\n",
        "  Xmu = all_mus.cpu().detach().numpy()\n",
        "  Xmu = Xmu.T \n",
        "  pcamu = PCA(2)  # project from latent_size to 2 dimensions\n",
        "  projectedmu = pcamu.fit_transform(Xmu)\n",
        "  xmu = projectedmu[:, 0]\n",
        "  ymu = projectedmu[:, 1]\n",
        "  colors = ['red','green','blue']\n",
        "  fig = plt.figure(figsize=(8,8))\n",
        "  scatter = plt.scatter(xmu, ymu, c=intclasses[0:X_train.shape[1]], cmap=matplotlib.colors.ListedColormap(colors))\n",
        "  plt.legend(handles=scatter.legend_elements()[0], labels=classes)\n",
        "  plt.title(\"PCA plot of latent space mu values of defects\")\n",
        "  plt.xlabel('Component 1')\n",
        "  plt.ylabel('Component 2')\n",
        "\n",
        "\n",
        "# Make PCA of c_final\n",
        "from sklearn import preprocessing\n",
        "\n",
        "Xcfinal = all_cfinal.view(1,batchnr+flags.batch_size,-1).squeeze().cpu().detach().numpy()\n",
        "Xcfinal = preprocessing.scale(Xcfinal)\n",
        "pcacfinal = PCA(2)\n",
        "projectedcfinal = pcacfinal.fit_transform(Xcfinal)\n",
        "xcfinal = projectedcfinal[:, 0]\n",
        "ycfinal = projectedcfinal[:, 1]\n",
        "colors = ['red','green','blue']\n",
        "fig = plt.figure(figsize=(8,8))\n",
        "scatter = plt.scatter(xcfinal, ycfinal, c=intclasses[0:X_train.shape[1]], cmap=matplotlib.colors.ListedColormap(colors))\n",
        "plt.legend(handles=scatter.legend_elements()[0], labels=classes)\n",
        "plt.title(\"PCA plot of attentions c_final\")\n",
        "plt.xlabel('Component 1')\n",
        "plt.ylabel('Component 2')\n",
        "plt.show()"
      ],
      "execution_count": 0,
      "outputs": []
    },
    {
      "cell_type": "code",
      "metadata": {
        "id": "L7fYCy2xu5la",
        "colab_type": "code",
        "colab": {}
      },
      "source": [
        ""
      ],
      "execution_count": 0,
      "outputs": []
    }
  ]
}